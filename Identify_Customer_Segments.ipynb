{
 "cells": [
  {
   "cell_type": "markdown",
   "metadata": {},
   "source": [
    "# Project: Identify Customer Segments\n",
    "\n",
    "In this project, you will apply unsupervised learning techniques to identify segments of the population that form the core customer base for a mail-order sales company in Germany. These segments can then be used to direct marketing campaigns towards audiences that will have the highest expected rate of returns. The data that you will use has been provided by our partners at Bertelsmann Arvato Analytics, and represents a real-life data science task.\n",
    "\n",
    "This notebook will help you complete this task by providing a framework within which you will perform your analysis steps. In each step of the project, you will see some text describing the subtask that you will perform, followed by one or more code cells for you to complete your work. **Feel free to add additional code and markdown cells as you go along so that you can explore everything in precise chunks.** The code cells provided in the base template will outline only the major tasks, and will usually not be enough to cover all of the minor tasks that comprise it.\n",
    "\n",
    "It should be noted that while there will be precise guidelines on how you should handle certain tasks in the project, there will also be places where an exact specification is not provided. **There will be times in the project where you will need to make and justify your own decisions on how to treat the data.** These are places where there may not be only one way to handle the data. In real-life tasks, there may be many valid ways to approach an analysis task. One of the most important things you can do is clearly document your approach so that other scientists can understand the decisions you've made.\n",
    "\n",
    "At the end of most sections, there will be a Markdown cell labeled **Discussion**. In these cells, you will report your findings for the completed section, as well as document the decisions that you made in your approach to each subtask. **Your project will be evaluated not just on the code used to complete the tasks outlined, but also your communication about your observations and conclusions at each stage.**"
   ]
  },
  {
   "cell_type": "code",
   "execution_count": 1,
   "metadata": {},
   "outputs": [
    {
     "data": {
      "text/plain": [
       "'\\nImport note: The classroom currently uses sklearn version 0.19.\\nIf you need to use an imputer, it is available in sklearn.preprocessing.Imputer,\\ninstead of sklearn.impute as in newer versions of sklearn.\\n'"
      ]
     },
     "execution_count": 1,
     "metadata": {},
     "output_type": "execute_result"
    }
   ],
   "source": [
    "# import libraries here; add more as necessary\n",
    "import numpy as np\n",
    "import pandas as pd\n",
    "import matplotlib.pyplot as plt\n",
    "import seaborn as sns\n",
    "from sklearn.preprocessing import Imputer, StandardScaler\n",
    "from sklearn.decomposition import PCA\n",
    "from sklearn.cluster import KMeans\n",
    "\n",
    "# magic word for producing visualizations in notebook\n",
    "%matplotlib inline\n",
    "\n",
    "'''\n",
    "Import note: The classroom currently uses sklearn version 0.19.\n",
    "If you need to use an imputer, it is available in sklearn.preprocessing.Imputer,\n",
    "instead of sklearn.impute as in newer versions of sklearn.\n",
    "'''"
   ]
  },
  {
   "cell_type": "markdown",
   "metadata": {},
   "source": [
    "### Step 0: Load the Data\n",
    "\n",
    "There are four files associated with this project (not including this one):\n",
    "\n",
    "- `Udacity_AZDIAS_Subset.csv`: Demographics data for the general population of Germany; 891211 persons (rows) x 85 features (columns).\n",
    "- `Udacity_CUSTOMERS_Subset.csv`: Demographics data for customers of a mail-order company; 191652 persons (rows) x 85 features (columns).\n",
    "- `Data_Dictionary.md`: Detailed information file about the features in the provided datasets.\n",
    "- `AZDIAS_Feature_Summary.csv`: Summary of feature attributes for demographics data; 85 features (rows) x 4 columns\n",
    "\n",
    "Each row of the demographics files represents a single person, but also includes information outside of individuals, including information about their household, building, and neighborhood. You will use this information to cluster the general population into groups with similar demographic properties. Then, you will see how the people in the customers dataset fit into those created clusters. The hope here is that certain clusters are over-represented in the customers data, as compared to the general population; those over-represented clusters will be assumed to be part of the core userbase. This information can then be used for further applications, such as targeting for a marketing campaign.\n",
    "\n",
    "To start off with, load in the demographics data for the general population into a pandas DataFrame, and do the same for the feature attributes summary. Note for all of the `.csv` data files in this project: they're semicolon (`;`) delimited, so you'll need an additional argument in your [`read_csv()`](https://pandas.pydata.org/pandas-docs/stable/generated/pandas.read_csv.html) call to read in the data properly. Also, considering the size of the main dataset, it may take some time for it to load completely.\n",
    "\n",
    "Once the dataset is loaded, it's recommended that you take a little bit of time just browsing the general structure of the dataset and feature summary file. You'll be getting deep into the innards of the cleaning in the first major step of the project, so gaining some general familiarity can help you get your bearings."
   ]
  },
  {
   "cell_type": "code",
   "execution_count": 2,
   "metadata": {},
   "outputs": [],
   "source": [
    "# Load in the general demographics data.\n",
    "azdias = pd.read_csv(\"Udacity_AZDIAS_Subset.csv\", sep = \";\")\n",
    "\n",
    "# Load in the feature summary file.\n",
    "feat_info = pd.read_csv(\"AZDIAS_Feature_Summary.csv\", sep = \";\")"
   ]
  },
  {
   "cell_type": "code",
   "execution_count": 3,
   "metadata": {},
   "outputs": [
    {
     "data": {
      "text/html": [
       "<div>\n",
       "<style scoped>\n",
       "    .dataframe tbody tr th:only-of-type {\n",
       "        vertical-align: middle;\n",
       "    }\n",
       "\n",
       "    .dataframe tbody tr th {\n",
       "        vertical-align: top;\n",
       "    }\n",
       "\n",
       "    .dataframe thead th {\n",
       "        text-align: right;\n",
       "    }\n",
       "</style>\n",
       "<table border=\"1\" class=\"dataframe\">\n",
       "  <thead>\n",
       "    <tr style=\"text-align: right;\">\n",
       "      <th></th>\n",
       "      <th>AGER_TYP</th>\n",
       "      <th>ALTERSKATEGORIE_GROB</th>\n",
       "      <th>ANREDE_KZ</th>\n",
       "      <th>CJT_GESAMTTYP</th>\n",
       "      <th>FINANZ_MINIMALIST</th>\n",
       "      <th>FINANZ_SPARER</th>\n",
       "      <th>FINANZ_VORSORGER</th>\n",
       "      <th>FINANZ_ANLEGER</th>\n",
       "      <th>FINANZ_UNAUFFAELLIGER</th>\n",
       "      <th>FINANZ_HAUSBAUER</th>\n",
       "      <th>...</th>\n",
       "      <th>PLZ8_ANTG1</th>\n",
       "      <th>PLZ8_ANTG2</th>\n",
       "      <th>PLZ8_ANTG3</th>\n",
       "      <th>PLZ8_ANTG4</th>\n",
       "      <th>PLZ8_BAUMAX</th>\n",
       "      <th>PLZ8_HHZ</th>\n",
       "      <th>PLZ8_GBZ</th>\n",
       "      <th>ARBEIT</th>\n",
       "      <th>ORTSGR_KLS9</th>\n",
       "      <th>RELAT_AB</th>\n",
       "    </tr>\n",
       "  </thead>\n",
       "  <tbody>\n",
       "    <tr>\n",
       "      <th>0</th>\n",
       "      <td>-1</td>\n",
       "      <td>2</td>\n",
       "      <td>1</td>\n",
       "      <td>2.0</td>\n",
       "      <td>3</td>\n",
       "      <td>4</td>\n",
       "      <td>3</td>\n",
       "      <td>5</td>\n",
       "      <td>5</td>\n",
       "      <td>3</td>\n",
       "      <td>...</td>\n",
       "      <td>NaN</td>\n",
       "      <td>NaN</td>\n",
       "      <td>NaN</td>\n",
       "      <td>NaN</td>\n",
       "      <td>NaN</td>\n",
       "      <td>NaN</td>\n",
       "      <td>NaN</td>\n",
       "      <td>NaN</td>\n",
       "      <td>NaN</td>\n",
       "      <td>NaN</td>\n",
       "    </tr>\n",
       "    <tr>\n",
       "      <th>1</th>\n",
       "      <td>-1</td>\n",
       "      <td>1</td>\n",
       "      <td>2</td>\n",
       "      <td>5.0</td>\n",
       "      <td>1</td>\n",
       "      <td>5</td>\n",
       "      <td>2</td>\n",
       "      <td>5</td>\n",
       "      <td>4</td>\n",
       "      <td>5</td>\n",
       "      <td>...</td>\n",
       "      <td>2.0</td>\n",
       "      <td>3.0</td>\n",
       "      <td>2.0</td>\n",
       "      <td>1.0</td>\n",
       "      <td>1.0</td>\n",
       "      <td>5.0</td>\n",
       "      <td>4.0</td>\n",
       "      <td>3.0</td>\n",
       "      <td>5.0</td>\n",
       "      <td>4.0</td>\n",
       "    </tr>\n",
       "    <tr>\n",
       "      <th>2</th>\n",
       "      <td>-1</td>\n",
       "      <td>3</td>\n",
       "      <td>2</td>\n",
       "      <td>3.0</td>\n",
       "      <td>1</td>\n",
       "      <td>4</td>\n",
       "      <td>1</td>\n",
       "      <td>2</td>\n",
       "      <td>3</td>\n",
       "      <td>5</td>\n",
       "      <td>...</td>\n",
       "      <td>3.0</td>\n",
       "      <td>3.0</td>\n",
       "      <td>1.0</td>\n",
       "      <td>0.0</td>\n",
       "      <td>1.0</td>\n",
       "      <td>4.0</td>\n",
       "      <td>4.0</td>\n",
       "      <td>3.0</td>\n",
       "      <td>5.0</td>\n",
       "      <td>2.0</td>\n",
       "    </tr>\n",
       "  </tbody>\n",
       "</table>\n",
       "<p>3 rows × 85 columns</p>\n",
       "</div>"
      ],
      "text/plain": [
       "   AGER_TYP  ALTERSKATEGORIE_GROB  ANREDE_KZ  CJT_GESAMTTYP  \\\n",
       "0        -1                     2          1            2.0   \n",
       "1        -1                     1          2            5.0   \n",
       "2        -1                     3          2            3.0   \n",
       "\n",
       "   FINANZ_MINIMALIST  FINANZ_SPARER  FINANZ_VORSORGER  FINANZ_ANLEGER  \\\n",
       "0                  3              4                 3               5   \n",
       "1                  1              5                 2               5   \n",
       "2                  1              4                 1               2   \n",
       "\n",
       "   FINANZ_UNAUFFAELLIGER  FINANZ_HAUSBAUER    ...     PLZ8_ANTG1  PLZ8_ANTG2  \\\n",
       "0                      5                 3    ...            NaN         NaN   \n",
       "1                      4                 5    ...            2.0         3.0   \n",
       "2                      3                 5    ...            3.0         3.0   \n",
       "\n",
       "   PLZ8_ANTG3  PLZ8_ANTG4  PLZ8_BAUMAX  PLZ8_HHZ  PLZ8_GBZ  ARBEIT  \\\n",
       "0         NaN         NaN          NaN       NaN       NaN     NaN   \n",
       "1         2.0         1.0          1.0       5.0       4.0     3.0   \n",
       "2         1.0         0.0          1.0       4.0       4.0     3.0   \n",
       "\n",
       "   ORTSGR_KLS9  RELAT_AB  \n",
       "0          NaN       NaN  \n",
       "1          5.0       4.0  \n",
       "2          5.0       2.0  \n",
       "\n",
       "[3 rows x 85 columns]"
      ]
     },
     "execution_count": 3,
     "metadata": {},
     "output_type": "execute_result"
    }
   ],
   "source": [
    "# Check the structure of the data after it's loaded (e.g. print the number of\n",
    "# rows and columns, print the first few rows).\n",
    "azdias.head(3)"
   ]
  },
  {
   "cell_type": "code",
   "execution_count": 4,
   "metadata": {},
   "outputs": [
    {
     "name": "stdout",
     "output_type": "stream",
     "text": [
      "(891221, 85)\n",
      "Index(['AGER_TYP', 'ALTERSKATEGORIE_GROB', 'ANREDE_KZ', 'CJT_GESAMTTYP',\n",
      "       'FINANZ_MINIMALIST', 'FINANZ_SPARER', 'FINANZ_VORSORGER',\n",
      "       'FINANZ_ANLEGER', 'FINANZ_UNAUFFAELLIGER', 'FINANZ_HAUSBAUER',\n",
      "       'FINANZTYP', 'GEBURTSJAHR', 'GFK_URLAUBERTYP', 'GREEN_AVANTGARDE',\n",
      "       'HEALTH_TYP', 'LP_LEBENSPHASE_FEIN', 'LP_LEBENSPHASE_GROB',\n",
      "       'LP_FAMILIE_FEIN', 'LP_FAMILIE_GROB', 'LP_STATUS_FEIN',\n",
      "       'LP_STATUS_GROB', 'NATIONALITAET_KZ', 'PRAEGENDE_JUGENDJAHRE',\n",
      "       'RETOURTYP_BK_S', 'SEMIO_SOZ', 'SEMIO_FAM', 'SEMIO_REL', 'SEMIO_MAT',\n",
      "       'SEMIO_VERT', 'SEMIO_LUST', 'SEMIO_ERL', 'SEMIO_KULT', 'SEMIO_RAT',\n",
      "       'SEMIO_KRIT', 'SEMIO_DOM', 'SEMIO_KAEM', 'SEMIO_PFLICHT', 'SEMIO_TRADV',\n",
      "       'SHOPPER_TYP', 'SOHO_KZ', 'TITEL_KZ', 'VERS_TYP', 'ZABEOTYP',\n",
      "       'ALTER_HH', 'ANZ_PERSONEN', 'ANZ_TITEL', 'HH_EINKOMMEN_SCORE',\n",
      "       'KK_KUNDENTYP', 'W_KEIT_KIND_HH', 'WOHNDAUER_2008',\n",
      "       'ANZ_HAUSHALTE_AKTIV', 'ANZ_HH_TITEL', 'GEBAEUDETYP', 'KONSUMNAEHE',\n",
      "       'MIN_GEBAEUDEJAHR', 'OST_WEST_KZ', 'WOHNLAGE', 'CAMEO_DEUG_2015',\n",
      "       'CAMEO_DEU_2015', 'CAMEO_INTL_2015', 'KBA05_ANTG1', 'KBA05_ANTG2',\n",
      "       'KBA05_ANTG3', 'KBA05_ANTG4', 'KBA05_BAUMAX', 'KBA05_GBZ', 'BALLRAUM',\n",
      "       'EWDICHTE', 'INNENSTADT', 'GEBAEUDETYP_RASTER', 'KKK', 'MOBI_REGIO',\n",
      "       'ONLINE_AFFINITAET', 'REGIOTYP', 'KBA13_ANZAHL_PKW', 'PLZ8_ANTG1',\n",
      "       'PLZ8_ANTG2', 'PLZ8_ANTG3', 'PLZ8_ANTG4', 'PLZ8_BAUMAX', 'PLZ8_HHZ',\n",
      "       'PLZ8_GBZ', 'ARBEIT', 'ORTSGR_KLS9', 'RELAT_AB'],\n",
      "      dtype='object')\n"
     ]
    }
   ],
   "source": [
    "print(azdias.shape)\n",
    "print(azdias.columns)"
   ]
  },
  {
   "cell_type": "markdown",
   "metadata": {},
   "source": [
    "> **Tip**: Add additional cells to keep everything in reasonably-sized chunks! Keyboard shortcut `esc --> a` (press escape to enter command mode, then press the 'A' key) adds a new cell before the active cell, and `esc --> b` adds a new cell after the active cell. If you need to convert an active cell to a markdown cell, use `esc --> m` and to convert to a code cell, use `esc --> y`. \n",
    "\n",
    "## Step 1: Preprocessing\n",
    "\n",
    "### Step 1.1: Assess Missing Data\n",
    "\n",
    "The feature summary file contains a summary of properties for each demographics data column. You will use this file to help you make cleaning decisions during this stage of the project. First of all, you should assess the demographics data in terms of missing data. Pay attention to the following points as you perform your analysis, and take notes on what you observe. Make sure that you fill in the **Discussion** cell with your findings and decisions at the end of each step that has one!\n",
    "\n",
    "#### Step 1.1.1: Convert Missing Value Codes to NaNs\n",
    "The fourth column of the feature attributes summary (loaded in above as `feat_info`) documents the codes from the data dictionary that indicate missing or unknown data. While the file encodes this as a list (e.g. `[-1,0]`), this will get read in as a string object. You'll need to do a little bit of parsing to make use of it to identify and clean the data. Convert data that matches a 'missing' or 'unknown' value code into a numpy NaN value. You might want to see how much data takes on a 'missing' or 'unknown' code, and how much data is naturally missing, as a point of interest.\n",
    "\n",
    "**As one more reminder, you are encouraged to add additional cells to break up your analysis into manageable chunks.**"
   ]
  },
  {
   "cell_type": "code",
   "execution_count": 5,
   "metadata": {},
   "outputs": [
    {
     "data": {
      "text/html": [
       "<div>\n",
       "<style scoped>\n",
       "    .dataframe tbody tr th:only-of-type {\n",
       "        vertical-align: middle;\n",
       "    }\n",
       "\n",
       "    .dataframe tbody tr th {\n",
       "        vertical-align: top;\n",
       "    }\n",
       "\n",
       "    .dataframe thead th {\n",
       "        text-align: right;\n",
       "    }\n",
       "</style>\n",
       "<table border=\"1\" class=\"dataframe\">\n",
       "  <thead>\n",
       "    <tr style=\"text-align: right;\">\n",
       "      <th></th>\n",
       "      <th>attribute</th>\n",
       "      <th>information_level</th>\n",
       "      <th>type</th>\n",
       "      <th>missing_or_unknown</th>\n",
       "    </tr>\n",
       "  </thead>\n",
       "  <tbody>\n",
       "    <tr>\n",
       "      <th>0</th>\n",
       "      <td>AGER_TYP</td>\n",
       "      <td>person</td>\n",
       "      <td>categorical</td>\n",
       "      <td>[-1,0]</td>\n",
       "    </tr>\n",
       "    <tr>\n",
       "      <th>1</th>\n",
       "      <td>ALTERSKATEGORIE_GROB</td>\n",
       "      <td>person</td>\n",
       "      <td>ordinal</td>\n",
       "      <td>[-1,0,9]</td>\n",
       "    </tr>\n",
       "    <tr>\n",
       "      <th>2</th>\n",
       "      <td>ANREDE_KZ</td>\n",
       "      <td>person</td>\n",
       "      <td>categorical</td>\n",
       "      <td>[-1,0]</td>\n",
       "    </tr>\n",
       "    <tr>\n",
       "      <th>3</th>\n",
       "      <td>CJT_GESAMTTYP</td>\n",
       "      <td>person</td>\n",
       "      <td>categorical</td>\n",
       "      <td>[0]</td>\n",
       "    </tr>\n",
       "    <tr>\n",
       "      <th>4</th>\n",
       "      <td>FINANZ_MINIMALIST</td>\n",
       "      <td>person</td>\n",
       "      <td>ordinal</td>\n",
       "      <td>[-1]</td>\n",
       "    </tr>\n",
       "  </tbody>\n",
       "</table>\n",
       "</div>"
      ],
      "text/plain": [
       "              attribute information_level         type missing_or_unknown\n",
       "0              AGER_TYP            person  categorical             [-1,0]\n",
       "1  ALTERSKATEGORIE_GROB            person      ordinal           [-1,0,9]\n",
       "2             ANREDE_KZ            person  categorical             [-1,0]\n",
       "3         CJT_GESAMTTYP            person  categorical                [0]\n",
       "4     FINANZ_MINIMALIST            person      ordinal               [-1]"
      ]
     },
     "execution_count": 5,
     "metadata": {},
     "output_type": "execute_result"
    }
   ],
   "source": [
    "feat_info.head(5)"
   ]
  },
  {
   "cell_type": "code",
   "execution_count": 6,
   "metadata": {},
   "outputs": [
    {
     "data": {
      "text/html": [
       "<div>\n",
       "<style scoped>\n",
       "    .dataframe tbody tr th:only-of-type {\n",
       "        vertical-align: middle;\n",
       "    }\n",
       "\n",
       "    .dataframe tbody tr th {\n",
       "        vertical-align: top;\n",
       "    }\n",
       "\n",
       "    .dataframe thead th {\n",
       "        text-align: right;\n",
       "    }\n",
       "</style>\n",
       "<table border=\"1\" class=\"dataframe\">\n",
       "  <thead>\n",
       "    <tr style=\"text-align: right;\">\n",
       "      <th></th>\n",
       "      <th>AGER_TYP</th>\n",
       "      <th>ALTERSKATEGORIE_GROB</th>\n",
       "      <th>ANREDE_KZ</th>\n",
       "      <th>CJT_GESAMTTYP</th>\n",
       "      <th>FINANZ_MINIMALIST</th>\n",
       "      <th>FINANZ_SPARER</th>\n",
       "      <th>FINANZ_VORSORGER</th>\n",
       "      <th>FINANZ_ANLEGER</th>\n",
       "      <th>FINANZ_UNAUFFAELLIGER</th>\n",
       "      <th>FINANZ_HAUSBAUER</th>\n",
       "      <th>...</th>\n",
       "      <th>PLZ8_ANTG1</th>\n",
       "      <th>PLZ8_ANTG2</th>\n",
       "      <th>PLZ8_ANTG3</th>\n",
       "      <th>PLZ8_ANTG4</th>\n",
       "      <th>PLZ8_BAUMAX</th>\n",
       "      <th>PLZ8_HHZ</th>\n",
       "      <th>PLZ8_GBZ</th>\n",
       "      <th>ARBEIT</th>\n",
       "      <th>ORTSGR_KLS9</th>\n",
       "      <th>RELAT_AB</th>\n",
       "    </tr>\n",
       "  </thead>\n",
       "  <tbody>\n",
       "    <tr>\n",
       "      <th>0</th>\n",
       "      <td>-1</td>\n",
       "      <td>2</td>\n",
       "      <td>1</td>\n",
       "      <td>2.0</td>\n",
       "      <td>3</td>\n",
       "      <td>4</td>\n",
       "      <td>3</td>\n",
       "      <td>5</td>\n",
       "      <td>5</td>\n",
       "      <td>3</td>\n",
       "      <td>...</td>\n",
       "      <td>NaN</td>\n",
       "      <td>NaN</td>\n",
       "      <td>NaN</td>\n",
       "      <td>NaN</td>\n",
       "      <td>NaN</td>\n",
       "      <td>NaN</td>\n",
       "      <td>NaN</td>\n",
       "      <td>NaN</td>\n",
       "      <td>NaN</td>\n",
       "      <td>NaN</td>\n",
       "    </tr>\n",
       "    <tr>\n",
       "      <th>1</th>\n",
       "      <td>-1</td>\n",
       "      <td>1</td>\n",
       "      <td>2</td>\n",
       "      <td>5.0</td>\n",
       "      <td>1</td>\n",
       "      <td>5</td>\n",
       "      <td>2</td>\n",
       "      <td>5</td>\n",
       "      <td>4</td>\n",
       "      <td>5</td>\n",
       "      <td>...</td>\n",
       "      <td>2.0</td>\n",
       "      <td>3.0</td>\n",
       "      <td>2.0</td>\n",
       "      <td>1.0</td>\n",
       "      <td>1.0</td>\n",
       "      <td>5.0</td>\n",
       "      <td>4.0</td>\n",
       "      <td>3.0</td>\n",
       "      <td>5.0</td>\n",
       "      <td>4.0</td>\n",
       "    </tr>\n",
       "    <tr>\n",
       "      <th>2</th>\n",
       "      <td>-1</td>\n",
       "      <td>3</td>\n",
       "      <td>2</td>\n",
       "      <td>3.0</td>\n",
       "      <td>1</td>\n",
       "      <td>4</td>\n",
       "      <td>1</td>\n",
       "      <td>2</td>\n",
       "      <td>3</td>\n",
       "      <td>5</td>\n",
       "      <td>...</td>\n",
       "      <td>3.0</td>\n",
       "      <td>3.0</td>\n",
       "      <td>1.0</td>\n",
       "      <td>0.0</td>\n",
       "      <td>1.0</td>\n",
       "      <td>4.0</td>\n",
       "      <td>4.0</td>\n",
       "      <td>3.0</td>\n",
       "      <td>5.0</td>\n",
       "      <td>2.0</td>\n",
       "    </tr>\n",
       "    <tr>\n",
       "      <th>3</th>\n",
       "      <td>2</td>\n",
       "      <td>4</td>\n",
       "      <td>2</td>\n",
       "      <td>2.0</td>\n",
       "      <td>4</td>\n",
       "      <td>2</td>\n",
       "      <td>5</td>\n",
       "      <td>2</td>\n",
       "      <td>1</td>\n",
       "      <td>2</td>\n",
       "      <td>...</td>\n",
       "      <td>2.0</td>\n",
       "      <td>2.0</td>\n",
       "      <td>2.0</td>\n",
       "      <td>0.0</td>\n",
       "      <td>1.0</td>\n",
       "      <td>3.0</td>\n",
       "      <td>4.0</td>\n",
       "      <td>2.0</td>\n",
       "      <td>3.0</td>\n",
       "      <td>3.0</td>\n",
       "    </tr>\n",
       "    <tr>\n",
       "      <th>4</th>\n",
       "      <td>-1</td>\n",
       "      <td>3</td>\n",
       "      <td>1</td>\n",
       "      <td>5.0</td>\n",
       "      <td>4</td>\n",
       "      <td>3</td>\n",
       "      <td>4</td>\n",
       "      <td>1</td>\n",
       "      <td>3</td>\n",
       "      <td>2</td>\n",
       "      <td>...</td>\n",
       "      <td>2.0</td>\n",
       "      <td>4.0</td>\n",
       "      <td>2.0</td>\n",
       "      <td>1.0</td>\n",
       "      <td>2.0</td>\n",
       "      <td>3.0</td>\n",
       "      <td>3.0</td>\n",
       "      <td>4.0</td>\n",
       "      <td>6.0</td>\n",
       "      <td>5.0</td>\n",
       "    </tr>\n",
       "  </tbody>\n",
       "</table>\n",
       "<p>5 rows × 85 columns</p>\n",
       "</div>"
      ],
      "text/plain": [
       "   AGER_TYP  ALTERSKATEGORIE_GROB  ANREDE_KZ  CJT_GESAMTTYP  \\\n",
       "0        -1                     2          1            2.0   \n",
       "1        -1                     1          2            5.0   \n",
       "2        -1                     3          2            3.0   \n",
       "3         2                     4          2            2.0   \n",
       "4        -1                     3          1            5.0   \n",
       "\n",
       "   FINANZ_MINIMALIST  FINANZ_SPARER  FINANZ_VORSORGER  FINANZ_ANLEGER  \\\n",
       "0                  3              4                 3               5   \n",
       "1                  1              5                 2               5   \n",
       "2                  1              4                 1               2   \n",
       "3                  4              2                 5               2   \n",
       "4                  4              3                 4               1   \n",
       "\n",
       "   FINANZ_UNAUFFAELLIGER  FINANZ_HAUSBAUER    ...     PLZ8_ANTG1  PLZ8_ANTG2  \\\n",
       "0                      5                 3    ...            NaN         NaN   \n",
       "1                      4                 5    ...            2.0         3.0   \n",
       "2                      3                 5    ...            3.0         3.0   \n",
       "3                      1                 2    ...            2.0         2.0   \n",
       "4                      3                 2    ...            2.0         4.0   \n",
       "\n",
       "   PLZ8_ANTG3  PLZ8_ANTG4  PLZ8_BAUMAX  PLZ8_HHZ  PLZ8_GBZ  ARBEIT  \\\n",
       "0         NaN         NaN          NaN       NaN       NaN     NaN   \n",
       "1         2.0         1.0          1.0       5.0       4.0     3.0   \n",
       "2         1.0         0.0          1.0       4.0       4.0     3.0   \n",
       "3         2.0         0.0          1.0       3.0       4.0     2.0   \n",
       "4         2.0         1.0          2.0       3.0       3.0     4.0   \n",
       "\n",
       "   ORTSGR_KLS9  RELAT_AB  \n",
       "0          NaN       NaN  \n",
       "1          5.0       4.0  \n",
       "2          5.0       2.0  \n",
       "3          3.0       3.0  \n",
       "4          6.0       5.0  \n",
       "\n",
       "[5 rows x 85 columns]"
      ]
     },
     "execution_count": 6,
     "metadata": {},
     "output_type": "execute_result"
    }
   ],
   "source": [
    "azdias.head()"
   ]
  },
  {
   "cell_type": "code",
   "execution_count": 7,
   "metadata": {},
   "outputs": [
    {
     "data": {
      "text/plain": [
       "[1, 2, 'xx', 0, 9, -1]"
      ]
     },
     "execution_count": 7,
     "metadata": {},
     "output_type": "execute_result"
    }
   ],
   "source": [
    "prac_string = \"[1, 2, xx, 0, 9, -1]\"\n",
    "prac_list = []\n",
    "x = prac_string.strip(\"][\").split(\", \")\n",
    "for char in x:\n",
    "    try:\n",
    "        prac_list.append(int(char))\n",
    "    except:\n",
    "        prac_list.append(char)\n",
    "prac_list        "
   ]
  },
  {
   "cell_type": "code",
   "execution_count": 8,
   "metadata": {},
   "outputs": [
    {
     "data": {
      "text/plain": [
       "[-1, 0]"
      ]
     },
     "execution_count": 8,
     "metadata": {},
     "output_type": "execute_result"
    }
   ],
   "source": [
    "# Identify missing or unknown data values and convert them to NaNs.\n",
    "\n",
    "def string_to_list(x):\n",
    "    new_list = []\n",
    "    x = x.strip(\"][\").split(\",\")\n",
    "    for char in x:\n",
    "        try:\n",
    "            new_list.append(int(char))\n",
    "        except:\n",
    "            new_list.append(char)\n",
    "    return new_list\n",
    "\n",
    "    \n",
    "prac_list = string_to_list(\"[-1,0]\")\n",
    "prac_list"
   ]
  },
  {
   "cell_type": "code",
   "execution_count": 9,
   "metadata": {},
   "outputs": [],
   "source": [
    "feat_info[\"Na_list\"] = feat_info[\"missing_or_unknown\"].apply(string_to_list)"
   ]
  },
  {
   "cell_type": "code",
   "execution_count": 10,
   "metadata": {},
   "outputs": [
    {
     "data": {
      "text/html": [
       "<div>\n",
       "<style scoped>\n",
       "    .dataframe tbody tr th:only-of-type {\n",
       "        vertical-align: middle;\n",
       "    }\n",
       "\n",
       "    .dataframe tbody tr th {\n",
       "        vertical-align: top;\n",
       "    }\n",
       "\n",
       "    .dataframe thead th {\n",
       "        text-align: right;\n",
       "    }\n",
       "</style>\n",
       "<table border=\"1\" class=\"dataframe\">\n",
       "  <thead>\n",
       "    <tr style=\"text-align: right;\">\n",
       "      <th></th>\n",
       "      <th>attribute</th>\n",
       "      <th>information_level</th>\n",
       "      <th>type</th>\n",
       "      <th>missing_or_unknown</th>\n",
       "      <th>Na_list</th>\n",
       "    </tr>\n",
       "  </thead>\n",
       "  <tbody>\n",
       "    <tr>\n",
       "      <th>0</th>\n",
       "      <td>AGER_TYP</td>\n",
       "      <td>person</td>\n",
       "      <td>categorical</td>\n",
       "      <td>[-1,0]</td>\n",
       "      <td>[-1, 0]</td>\n",
       "    </tr>\n",
       "    <tr>\n",
       "      <th>1</th>\n",
       "      <td>ALTERSKATEGORIE_GROB</td>\n",
       "      <td>person</td>\n",
       "      <td>ordinal</td>\n",
       "      <td>[-1,0,9]</td>\n",
       "      <td>[-1, 0, 9]</td>\n",
       "    </tr>\n",
       "    <tr>\n",
       "      <th>2</th>\n",
       "      <td>ANREDE_KZ</td>\n",
       "      <td>person</td>\n",
       "      <td>categorical</td>\n",
       "      <td>[-1,0]</td>\n",
       "      <td>[-1, 0]</td>\n",
       "    </tr>\n",
       "    <tr>\n",
       "      <th>3</th>\n",
       "      <td>CJT_GESAMTTYP</td>\n",
       "      <td>person</td>\n",
       "      <td>categorical</td>\n",
       "      <td>[0]</td>\n",
       "      <td>[0]</td>\n",
       "    </tr>\n",
       "    <tr>\n",
       "      <th>4</th>\n",
       "      <td>FINANZ_MINIMALIST</td>\n",
       "      <td>person</td>\n",
       "      <td>ordinal</td>\n",
       "      <td>[-1]</td>\n",
       "      <td>[-1]</td>\n",
       "    </tr>\n",
       "  </tbody>\n",
       "</table>\n",
       "</div>"
      ],
      "text/plain": [
       "              attribute information_level         type missing_or_unknown  \\\n",
       "0              AGER_TYP            person  categorical             [-1,0]   \n",
       "1  ALTERSKATEGORIE_GROB            person      ordinal           [-1,0,9]   \n",
       "2             ANREDE_KZ            person  categorical             [-1,0]   \n",
       "3         CJT_GESAMTTYP            person  categorical                [0]   \n",
       "4     FINANZ_MINIMALIST            person      ordinal               [-1]   \n",
       "\n",
       "      Na_list  \n",
       "0     [-1, 0]  \n",
       "1  [-1, 0, 9]  \n",
       "2     [-1, 0]  \n",
       "3         [0]  \n",
       "4        [-1]  "
      ]
     },
     "execution_count": 10,
     "metadata": {},
     "output_type": "execute_result"
    }
   ],
   "source": [
    "feat_info.head()"
   ]
  },
  {
   "cell_type": "code",
   "execution_count": 11,
   "metadata": {},
   "outputs": [],
   "source": [
    "#Create attribute of data\n",
    "attr_info = feat_info.set_index('attribute')\n",
    "#For example\n",
    "na_azdias = azdias[:]"
   ]
  },
  {
   "cell_type": "code",
   "execution_count": 12,
   "metadata": {},
   "outputs": [
    {
     "name": "stderr",
     "output_type": "stream",
     "text": [
      "/opt/conda/lib/python3.6/site-packages/pandas/core/generic.py:5890: SettingWithCopyWarning: \n",
      "A value is trying to be set on a copy of a slice from a DataFrame\n",
      "\n",
      "See the caveats in the documentation: http://pandas.pydata.org/pandas-docs/stable/indexing.html#indexing-view-versus-copy\n",
      "  self._update_inplace(new_data)\n"
     ]
    }
   ],
   "source": [
    "for column in na_azdias.columns:\n",
    "    na_azdias[column].replace(attr_info.loc[column].loc['Na_list'],np.NaN,inplace=True)"
   ]
  },
  {
   "cell_type": "code",
   "execution_count": 13,
   "metadata": {},
   "outputs": [
    {
     "data": {
      "text/plain": [
       "8373929"
      ]
     },
     "execution_count": 13,
     "metadata": {},
     "output_type": "execute_result"
    }
   ],
   "source": [
    "na_azdias.isna().sum().sum()"
   ]
  },
  {
   "cell_type": "markdown",
   "metadata": {},
   "source": [
    "#### Step 1.1.2: Assess Missing Data in Each Column\n",
    "\n",
    "How much missing data is present in each column? There are a few columns that are outliers in terms of the proportion of values that are missing. You will want to use matplotlib's [`hist()`](https://matplotlib.org/api/_as_gen/matplotlib.pyplot.hist.html) function to visualize the distribution of missing value counts to find these columns. Identify and document these columns. While some of these columns might have justifications for keeping or re-encoding the data, for this project you should just remove them from the dataframe. (Feel free to make remarks about these outlier columns in the discussion, however!)\n",
    "\n",
    "For the remaining features, are there any patterns in which columns have, or share, missing data?"
   ]
  },
  {
   "cell_type": "code",
   "execution_count": 14,
   "metadata": {},
   "outputs": [
    {
     "data": {
      "text/plain": [
       "(array([ 39.,  40.,   0.,   1.,   1.,   1.,   1.,   1.,   0.,   1.]),\n",
       " array([      0. ,   88906.1,  177812.2,  266718.3,  355624.4,  444530.5,\n",
       "         533436.6,  622342.7,  711248.8,  800154.9,  889061. ]),\n",
       " <a list of 10 Patch objects>)"
      ]
     },
     "execution_count": 14,
     "metadata": {},
     "output_type": "execute_result"
    },
    {
     "data": {
      "image/png": "[encoded data removed]",
      "text/plain": [
       "<matplotlib.figure.Figure at 0x7f9fc85e41d0>"
      ]
     },
     "metadata": {
      "needs_background": "light"
     },
     "output_type": "display_data"
    }
   ],
   "source": [
    "# Perform an assessment of how much missing data there is in each column of the\n",
    "# dataset.\n",
    "plt.hist(na_azdias.isna().sum())"
   ]
  },
  {
   "cell_type": "code",
   "execution_count": 15,
   "metadata": {},
   "outputs": [
    {
     "data": {
      "text/plain": [
       "{'AGER_TYP': 685843,\n",
       " 'GEBURTSJAHR': 392318,\n",
       " 'TITEL_KZ': 889061,\n",
       " 'ALTER_HH': 310267,\n",
       " 'KK_KUNDENTYP': 584612,\n",
       " 'KBA05_BAUMAX': 476524}"
      ]
     },
     "execution_count": 15,
     "metadata": {},
     "output_type": "execute_result"
    }
   ],
   "source": [
    "# Investigate patterns in the amount of missing data in each column.\n",
    "num_name_of_na_per_col = dict()\n",
    "the_rest = dict()\n",
    "for column in na_azdias:\n",
    "    sum_per_col = na_azdias[column].isna().sum()\n",
    "    if sum_per_col > 200000:\n",
    "        num_name_of_na_per_col[column] = sum_per_col\n",
    "    else:\n",
    "        the_rest[column] = sum_per_col\n",
    "num_name_of_na_per_col  "
   ]
  },
  {
   "cell_type": "code",
   "execution_count": 16,
   "metadata": {},
   "outputs": [
    {
     "name": "stdout",
     "output_type": "stream",
     "text": [
      "dict_keys(['AGER_TYP', 'GEBURTSJAHR', 'TITEL_KZ', 'ALTER_HH', 'KK_KUNDENTYP', 'KBA05_BAUMAX'])\n"
     ]
    }
   ],
   "source": [
    "outliers = num_name_of_na_per_col.keys()  \n",
    "print(outliers)"
   ]
  },
  {
   "cell_type": "code",
   "execution_count": 17,
   "metadata": {},
   "outputs": [
    {
     "data": {
      "text/plain": [
       "(891221, 79)"
      ]
     },
     "execution_count": 17,
     "metadata": {},
     "output_type": "execute_result"
    }
   ],
   "source": [
    "# Remove the outlier columns from the dataset. (You'll perform other data\n",
    "# engineering tasks such as re-encoding and imputation later.)\n",
    "\n",
    "condensed_azdias = na_azdias.drop(outliers, axis = 1)\n",
    "condensed_azdias.shape"
   ]
  },
  {
   "cell_type": "code",
   "execution_count": 18,
   "metadata": {},
   "outputs": [
    {
     "data": {
      "text/plain": [
       "(array([ 31.,   1.,   0.,   0.,   7.,   9.,  12.,  10.,   6.,   3.]),\n",
       " array([      0. ,   15806.4,   31612.8,   47419.2,   63225.6,   79032. ,\n",
       "          94838.4,  110644.8,  126451.2,  142257.6,  158064. ]),\n",
       " <a list of 10 Patch objects>)"
      ]
     },
     "execution_count": 18,
     "metadata": {},
     "output_type": "execute_result"
    },
    {
     "data": {
      "image/png": "[encoded data removed]",
      "text/plain": [
       "<matplotlib.figure.Figure at 0x7f9fc85ef860>"
      ]
     },
     "metadata": {
      "needs_background": "light"
     },
     "output_type": "display_data"
    }
   ],
   "source": [
    "plt.hist(condensed_azdias.isna().sum())"
   ]
  },
  {
   "cell_type": "markdown",
   "metadata": {},
   "source": [
    "#### Discussion 1.1.2: Assess Missing Data in Each Column\n",
    "\n",
    "I saw that the amount of missing data was typically between 0 and just under 200000 which is about a third of the data having NaNs. However, for some categories there were datapoints that were NaNs for more than half of the data. The dict I created was {category_name: # of NaNs}\n",
    " * 'AGER_TYP': 685843,\n",
    " * 'GEBURTSJAHR': 392318,\n",
    " * 'TITEL_KZ': 889061,\n",
    " * 'ALTER_HH': 310267,\n",
    " * 'KK_KUNDENTYP': 584612,\n",
    " * 'KBA05_BAUMAX': 476524 \n",
    " \n",
    "These columns were removed by me"
   ]
  },
  {
   "cell_type": "markdown",
   "metadata": {},
   "source": [
    "#### Step 1.1.3: Assess Missing Data in Each Row\n",
    "\n",
    "Now, you'll perform a similar assessment for the rows of the dataset. How much data is missing in each row? As with the columns, you should see some groups of points that have a very different numbers of missing values. Divide the data into two subsets: one for data points that are above some threshold for missing values, and a second subset for points below that threshold.\n",
    "\n",
    "In order to know what to do with the outlier rows, we should see if the distribution of data values on columns that are not missing data (or are missing very little data) are similar or different between the two groups. Select at least five of these columns and compare the distribution of values.\n",
    "- You can use seaborn's [`countplot()`](https://seaborn.pydata.org/generated/seaborn.countplot.html) function to create a bar chart of code frequencies and matplotlib's [`subplot()`](https://matplotlib.org/api/_as_gen/matplotlib.pyplot.subplot.html) function to put bar charts for the two subplots side by side.\n",
    "- To reduce repeated code, you might want to write a function that can perform this comparison, taking as one of its arguments a column to be compared.\n",
    "\n",
    "Depending on what you observe in your comparison, this will have implications on how you approach your conclusions later in the analysis. If the distributions of non-missing features look similar between the data with many missing values and the data with few or no missing values, then we could argue that simply dropping those points from the analysis won't present a major issue. On the other hand, if the data with many missing values looks very different from the data with few or no missing values, then we should make a note on those data as special. We'll revisit these data later on. **Either way, you should continue your analysis for now using just the subset of the data with few or no missing values.**"
   ]
  },
  {
   "cell_type": "code",
   "execution_count": 19,
   "metadata": {},
   "outputs": [],
   "source": [
    "# How much data is missing in each row of the dataset?\n",
    "na_per_rows = condensed_azdias.isnull().sum(axis = 1)"
   ]
  },
  {
   "cell_type": "code",
   "execution_count": 20,
   "metadata": {},
   "outputs": [
    {
     "data": {
      "text/plain": [
       "(array([  6.97109000e+05,   7.76340000e+04,   1.28010000e+04,\n",
       "          9.53300000e+03,   8.29000000e+02,   1.55000000e+02,\n",
       "          1.40160000e+04,   5.03100000e+03,   2.80380000e+04,\n",
       "          4.60750000e+04]),\n",
       " array([  0. ,   4.9,   9.8,  14.7,  19.6,  24.5,  29.4,  34.3,  39.2,\n",
       "         44.1,  49. ]),\n",
       " <a list of 10 Patch objects>)"
      ]
     },
     "execution_count": 20,
     "metadata": {},
     "output_type": "execute_result"
    },
    {
     "data": {
      "image/png": "[encoded data removed]",
      "text/plain": [
       "<matplotlib.figure.Figure at 0x7f9fc84843c8>"
      ]
     },
     "metadata": {
      "needs_background": "light"
     },
     "output_type": "display_data"
    }
   ],
   "source": [
    "#Find stats for na_per_rows\n",
    "plt.hist(na_per_rows)"
   ]
  },
  {
   "cell_type": "code",
   "execution_count": 21,
   "metadata": {},
   "outputs": [
    {
     "name": "stdout",
     "output_type": "stream",
     "text": [
      "43\n",
      "43\n"
     ]
    }
   ],
   "source": [
    "assert na_per_rows[0] == condensed_azdias.iloc[0].isna().sum()\n",
    "print(na_per_rows[0])\n",
    "print(condensed_azdias.iloc[0].isna().sum())"
   ]
  },
  {
   "cell_type": "code",
   "execution_count": 22,
   "metadata": {},
   "outputs": [],
   "source": [
    "azdias_many_values = condensed_azdias[condensed_azdias.isnull().sum(axis = 1) <= 10]\n",
    "azdias_missing_values = condensed_azdias[condensed_azdias.isnull().sum(axis = 1) > 10]"
   ]
  },
  {
   "cell_type": "code",
   "execution_count": 23,
   "metadata": {},
   "outputs": [],
   "source": [
    "compare_columns = [\"ALTERSKATEGORIE_GROB\", \"FINANZ_MINIMALIST\", \"PLZ8_ANTG2\", \"SEMIO_ERL\", \"WOHNLAGE\", \"KKK\"]"
   ]
  },
  {
   "cell_type": "code",
   "execution_count": 24,
   "metadata": {},
   "outputs": [
    {
     "data": {
      "image/png": "[encoded data removed]",
      "text/plain": [
       "<matplotlib.figure.Figure at 0x7f9fc8442dd8>"
      ]
     },
     "metadata": {
      "needs_background": "light"
     },
     "output_type": "display_data"
    }
   ],
   "source": [
    "figure, axs = plt.subplots(nrows=len(compare_columns), ncols=2, figsize = (15,20))\n",
    "figure.subplots_adjust(hspace = 1, wspace=.3)\n",
    "for row in range(len(compare_columns)):\n",
    "    sns.countplot(azdias_many_values[compare_columns[row]], ax=axs[row][0])\n",
    "    axs[row][0].set_title('Zero Missing Values')\n",
    "    sns.countplot(azdias_missing_values[compare_columns[row]], ax=axs[row][1])\n",
    "    axs[row][1].set_title('High amount of missing values')"
   ]
  },
  {
   "cell_type": "markdown",
   "metadata": {},
   "source": [
    "#### Discussion 1.1.3: Assess Missing Data in Each Row\n",
    "\n",
    "Most of the time they are pretty similiar if not almost the same; however, one thing to note is that for some columns I do sometimes see a small difference when picking randomly. For example, in the above random subset I picked the Finanz minimalist and the semio_erl and those two were a little different. However, the difference is not convincing enough to keep them in the analysis."
   ]
  },
  {
   "cell_type": "markdown",
   "metadata": {},
   "source": [
    "### Step 1.2: Select and Re-Encode Features\n",
    "\n",
    "Checking for missing data isn't the only way in which you can prepare a dataset for analysis. Since the unsupervised learning techniques to be used will only work on data that is encoded numerically, you need to make a few encoding changes or additional assumptions to be able to make progress. In addition, while almost all of the values in the dataset are encoded using numbers, not all of them represent numeric values. Check the third column of the feature summary (`feat_info`) for a summary of types of measurement.\n",
    "- For numeric and interval data, these features can be kept without changes.\n",
    "- Most of the variables in the dataset are ordinal in nature. While ordinal values may technically be non-linear in spacing, make the simplifying assumption that the ordinal variables can be treated as being interval in nature (that is, kept without any changes).\n",
    "- Special handling may be necessary for the remaining two variable types: categorical, and 'mixed'.\n",
    "\n",
    "In the first two parts of this sub-step, you will perform an investigation of the categorical and mixed-type features and make a decision on each of them, whether you will keep, drop, or re-encode each. Then, in the last part, you will create a new data frame with only the selected and engineered columns.\n",
    "\n",
    "Data wrangling is often the trickiest part of the data analysis process, and there's a lot of it to be done here. But stick with it: once you're done with this step, you'll be ready to get to the machine learning parts of the project!"
   ]
  },
  {
   "cell_type": "code",
   "execution_count": 25,
   "metadata": {},
   "outputs": [
    {
     "data": {
      "text/html": [
       "<div>\n",
       "<style scoped>\n",
       "    .dataframe tbody tr th:only-of-type {\n",
       "        vertical-align: middle;\n",
       "    }\n",
       "\n",
       "    .dataframe tbody tr th {\n",
       "        vertical-align: top;\n",
       "    }\n",
       "\n",
       "    .dataframe thead th {\n",
       "        text-align: right;\n",
       "    }\n",
       "</style>\n",
       "<table border=\"1\" class=\"dataframe\">\n",
       "  <thead>\n",
       "    <tr style=\"text-align: right;\">\n",
       "      <th></th>\n",
       "      <th>attribute</th>\n",
       "      <th>information_level</th>\n",
       "      <th>type</th>\n",
       "      <th>missing_or_unknown</th>\n",
       "      <th>Na_list</th>\n",
       "    </tr>\n",
       "  </thead>\n",
       "  <tbody>\n",
       "    <tr>\n",
       "      <th>0</th>\n",
       "      <td>AGER_TYP</td>\n",
       "      <td>person</td>\n",
       "      <td>categorical</td>\n",
       "      <td>[-1,0]</td>\n",
       "      <td>[-1, 0]</td>\n",
       "    </tr>\n",
       "    <tr>\n",
       "      <th>1</th>\n",
       "      <td>ALTERSKATEGORIE_GROB</td>\n",
       "      <td>person</td>\n",
       "      <td>ordinal</td>\n",
       "      <td>[-1,0,9]</td>\n",
       "      <td>[-1, 0, 9]</td>\n",
       "    </tr>\n",
       "    <tr>\n",
       "      <th>2</th>\n",
       "      <td>ANREDE_KZ</td>\n",
       "      <td>person</td>\n",
       "      <td>categorical</td>\n",
       "      <td>[-1,0]</td>\n",
       "      <td>[-1, 0]</td>\n",
       "    </tr>\n",
       "    <tr>\n",
       "      <th>3</th>\n",
       "      <td>CJT_GESAMTTYP</td>\n",
       "      <td>person</td>\n",
       "      <td>categorical</td>\n",
       "      <td>[0]</td>\n",
       "      <td>[0]</td>\n",
       "    </tr>\n",
       "    <tr>\n",
       "      <th>4</th>\n",
       "      <td>FINANZ_MINIMALIST</td>\n",
       "      <td>person</td>\n",
       "      <td>ordinal</td>\n",
       "      <td>[-1]</td>\n",
       "      <td>[-1]</td>\n",
       "    </tr>\n",
       "  </tbody>\n",
       "</table>\n",
       "</div>"
      ],
      "text/plain": [
       "              attribute information_level         type missing_or_unknown  \\\n",
       "0              AGER_TYP            person  categorical             [-1,0]   \n",
       "1  ALTERSKATEGORIE_GROB            person      ordinal           [-1,0,9]   \n",
       "2             ANREDE_KZ            person  categorical             [-1,0]   \n",
       "3         CJT_GESAMTTYP            person  categorical                [0]   \n",
       "4     FINANZ_MINIMALIST            person      ordinal               [-1]   \n",
       "\n",
       "      Na_list  \n",
       "0     [-1, 0]  \n",
       "1  [-1, 0, 9]  \n",
       "2     [-1, 0]  \n",
       "3         [0]  \n",
       "4        [-1]  "
      ]
     },
     "execution_count": 25,
     "metadata": {},
     "output_type": "execute_result"
    }
   ],
   "source": [
    "# How many features are there of each data type?\n",
    "feat_info.head()"
   ]
  },
  {
   "cell_type": "code",
   "execution_count": 26,
   "metadata": {},
   "outputs": [
    {
     "name": "stdout",
     "output_type": "stream",
     "text": [
      "They are 21 categorical features\n",
      "They are 49 ordinal features\n",
      "They are 7 numeric features\n",
      "They are 7 mixed features\n",
      "They are 1 interval features\n"
     ]
    }
   ],
   "source": [
    "print(\"They are {} categorical features\".format((feat_info[\"type\"] == \"categorical\").sum()))\n",
    "print(\"They are {} ordinal features\".format((feat_info[\"type\"] == \"ordinal\").sum()))\n",
    "print(\"They are {} numeric features\".format((feat_info[\"type\"] == \"numeric\").sum()))\n",
    "print(\"They are {} mixed features\".format((feat_info[\"type\"] == \"mixed\").sum()))\n",
    "print(\"They are {} interval features\".format((feat_info[\"type\"] == \"interval\").sum()))"
   ]
  },
  {
   "cell_type": "code",
   "execution_count": 27,
   "metadata": {},
   "outputs": [
    {
     "data": {
      "text/plain": [
       "type\n",
       "categorical    21\n",
       "interval        1\n",
       "mixed           7\n",
       "numeric         7\n",
       "ordinal        49\n",
       "Name: attribute, dtype: int64"
      ]
     },
     "execution_count": 27,
     "metadata": {},
     "output_type": "execute_result"
    }
   ],
   "source": [
    "feat_info.groupby(by='type').count()[\"attribute\"]"
   ]
  },
  {
   "cell_type": "markdown",
   "metadata": {},
   "source": [
    "#### Step 1.2.1: Re-Encode Categorical Features\n",
    "\n",
    "For categorical data, you would ordinarily need to encode the levels as dummy variables. Depending on the number of categories, perform one of the following:\n",
    "- For binary (two-level) categoricals that take numeric values, you can keep them without needing to do anything.\n",
    "- There is one binary variable that takes on non-numeric values. For this one, you need to re-encode the values as numbers or create a dummy variable.\n",
    "- For multi-level categoricals (three or more values), you can choose to encode the values using multiple dummy variables (e.g. via [OneHotEncoder](http://scikit-learn.org/stable/modules/generated/sklearn.preprocessing.OneHotEncoder.html)), or (to keep things straightforward) just drop them from the analysis. As always, document your choices in the Discussion section."
   ]
  },
  {
   "cell_type": "code",
   "execution_count": 28,
   "metadata": {},
   "outputs": [
    {
     "name": "stdout",
     "output_type": "stream",
     "text": [
      "{'ANREDE_KZ': 2, 'CJT_GESAMTTYP': 6, 'FINANZTYP': 6, 'GFK_URLAUBERTYP': 12, 'GREEN_AVANTGARDE': 2, 'LP_FAMILIE_FEIN': 11, 'LP_FAMILIE_GROB': 5, 'LP_STATUS_FEIN': 10, 'LP_STATUS_GROB': 5, 'NATIONALITAET_KZ': 3, 'SHOPPER_TYP': 4, 'SOHO_KZ': 2, 'VERS_TYP': 2, 'ZABEOTYP': 6, 'GEBAEUDETYP': 7, 'OST_WEST_KZ': 2, 'CAMEO_DEUG_2015': 9, 'CAMEO_DEU_2015': 44}\n",
      "18\n"
     ]
    }
   ],
   "source": [
    "# Assess categorical variables: which are binary, which are multi-level, and\n",
    "# which one needs to be re-encoded?\n",
    "category2var = dict()\n",
    "for attribute in feat_info[feat_info['type']=='categorical'].attribute:\n",
    "    if attribute in azdias_many_values.columns:\n",
    "        category2var[attribute] = azdias_many_values[attribute].nunique()\n",
    "#Even though there are 21 we dropped 3 attributes\n",
    "print(category2var)\n",
    "print(len(category2var))"
   ]
  },
  {
   "cell_type": "code",
   "execution_count": 29,
   "metadata": {},
   "outputs": [
    {
     "name": "stdout",
     "output_type": "stream",
     "text": [
      "ANREDE_KZ [2 1]\n",
      "GREEN_AVANTGARDE [0 1]\n",
      "SOHO_KZ [ 1.  0.]\n",
      "VERS_TYP [  2.   1.  nan]\n",
      "OST_WEST_KZ ['W' 'O']\n"
     ]
    }
   ],
   "source": [
    "# Re-encode categorical variable(s) to be kept in the analysis.\n",
    "multi_var_categ = dict()\n",
    "for key in category2var:\n",
    "    if category2var.get(key) == 2:\n",
    "        print(key, azdias_many_values[key].unique())\n",
    "    else:\n",
    "        multi_var_categ[key] = category2var.get(key)\n",
    "#OST_WEST_KZ that has the different values"
   ]
  },
  {
   "cell_type": "code",
   "execution_count": 30,
   "metadata": {},
   "outputs": [
    {
     "name": "stderr",
     "output_type": "stream",
     "text": [
      "/opt/conda/lib/python3.6/site-packages/ipykernel_launcher.py:1: SettingWithCopyWarning: \n",
      "A value is trying to be set on a copy of a slice from a DataFrame.\n",
      "Try using .loc[row_indexer,col_indexer] = value instead\n",
      "\n",
      "See the caveats in the documentation: http://pandas.pydata.org/pandas-docs/stable/indexing.html#indexing-view-versus-copy\n",
      "  \"\"\"Entry point for launching an IPython kernel.\n"
     ]
    },
    {
     "data": {
      "text/plain": [
       "1    0\n",
       "2    0\n",
       "3    0\n",
       "4    0\n",
       "5    0\n",
       "Name: OST_WEST_KZ, dtype: uint8"
      ]
     },
     "execution_count": 30,
     "metadata": {},
     "output_type": "execute_result"
    }
   ],
   "source": [
    "azdias_many_values[\"OST_WEST_KZ\"] = pd.get_dummies(azdias_many_values[\"OST_WEST_KZ\"])\n",
    "azdias_many_values[\"OST_WEST_KZ\"].head()"
   ]
  },
  {
   "cell_type": "code",
   "execution_count": 31,
   "metadata": {},
   "outputs": [
    {
     "name": "stdout",
     "output_type": "stream",
     "text": [
      "[0 1]\n"
     ]
    }
   ],
   "source": [
    "print(azdias_many_values[\"OST_WEST_KZ\"].unique())"
   ]
  },
  {
   "cell_type": "code",
   "execution_count": 32,
   "metadata": {},
   "outputs": [
    {
     "name": "stdout",
     "output_type": "stream",
     "text": [
      "{'CJT_GESAMTTYP': 6, 'FINANZTYP': 6, 'GFK_URLAUBERTYP': 12, 'LP_FAMILIE_FEIN': 11, 'LP_FAMILIE_GROB': 5, 'LP_STATUS_FEIN': 10, 'LP_STATUS_GROB': 5, 'NATIONALITAET_KZ': 3, 'SHOPPER_TYP': 4, 'ZABEOTYP': 6, 'GEBAEUDETYP': 7, 'CAMEO_DEUG_2015': 9, 'CAMEO_DEU_2015': 44}\n",
      "['CJT_GESAMTTYP', 'FINANZTYP', 'GFK_URLAUBERTYP', 'LP_FAMILIE_FEIN', 'LP_FAMILIE_GROB', 'LP_STATUS_FEIN', 'LP_STATUS_GROB', 'NATIONALITAET_KZ', 'SHOPPER_TYP', 'ZABEOTYP', 'GEBAEUDETYP', 'CAMEO_DEUG_2015', 'CAMEO_DEU_2015']\n"
     ]
    }
   ],
   "source": [
    "print(multi_var_categ)\n",
    "print(list(multi_var_categ.keys()))"
   ]
  },
  {
   "cell_type": "code",
   "execution_count": 33,
   "metadata": {},
   "outputs": [
    {
     "name": "stdout",
     "output_type": "stream",
     "text": [
      "(780153, 79)\n",
      "(780153, 66)\n"
     ]
    }
   ],
   "source": [
    "cond_azdias = azdias_many_values.drop(list(multi_var_categ.keys()), axis = 1)\n",
    "print(azdias_many_values.shape)\n",
    "print(cond_azdias.shape)"
   ]
  },
  {
   "cell_type": "markdown",
   "metadata": {},
   "source": [
    "#### Discussion 1.2.1: Re-Encode Categorical Features\n",
    "\n",
    "I found that out there were 18 categorical variables that I kept after dropping outliers with too many NaN values refrences above code for more info. For the binary ones I did not change anything except OST_WEST_KZ which has W and O instead of numerical values. So instead I did a pd.get_dummies on the variable. Then I removed all the categorical variables with more than 2 unique values excluding NaN. "
   ]
  },
  {
   "cell_type": "markdown",
   "metadata": {},
   "source": [
    "#### Step 1.2.2: Engineer Mixed-Type Features\n",
    "\n",
    "There are a handful of features that are marked as \"mixed\" in the feature summary that require special treatment in order to be included in the analysis. There are two in particular that deserve attention; the handling of the rest are up to your own choices:\n",
    "- \"PRAEGENDE_JUGENDJAHRE\" combines information on three dimensions: generation by decade, movement (mainstream vs. avantgarde), and nation (east vs. west). While there aren't enough levels to disentangle east from west, you should create two new variables to capture the other two dimensions: an interval-type variable for decade, and a binary variable for movement.\n",
    "- \"CAMEO_INTL_2015\" combines information on two axes: wealth and life stage. Break up the two-digit codes by their 'tens'-place and 'ones'-place digits into two new ordinal variables (which, for the purposes of this project, is equivalent to just treating them as their raw numeric values).\n",
    "- If you decide to keep or engineer new features around the other mixed-type features, make sure you note your steps in the Discussion section.\n",
    "\n",
    "Be sure to check `Data_Dictionary.md` for the details needed to finish these tasks."
   ]
  },
  {
   "cell_type": "code",
   "execution_count": 34,
   "metadata": {},
   "outputs": [
    {
     "name": "stdout",
     "output_type": "stream",
     "text": [
      "[ 14.  15.   8.   3.  10.  11.   5.   9.   6.   4.  nan   2.   1.  12.  13.\n",
      "   7.]\n"
     ]
    }
   ],
   "source": [
    "## Investigate \"PRAEGENDE_JUGENDJAHRE\" and engineer two new variables.\n",
    "print(cond_azdias[\"PRAEGENDE_JUGENDJAHRE\"].unique())\n",
    "\n",
    "praegende_jugendjahre_gen = {1.: 40, 2.: 40, 3.: 50, 4.: 50, 5.: 60, 6.: 60, 7.: 60, 8.: 70, 9.:70, 10.:80, 11.:80, 12.: 80, 13.:80, 14.:90, 15.:90}\n",
    "praegende_jugendjahre_move = {1.:0, 2.:1, 3.:0, 4.:1, 5.:0, 6.:1, 7.:1 ,8.:0 ,9.:1, 10.:0, 11.:1, 12.:0 ,13.:1 ,14.:0, 15.:1}\n",
    "\n",
    "#Mainstream: 0 #Avantgarde: 1"
   ]
  },
  {
   "cell_type": "code",
   "execution_count": 35,
   "metadata": {},
   "outputs": [
    {
     "name": "stdout",
     "output_type": "stream",
     "text": [
      "(780153, 68)\n"
     ]
    }
   ],
   "source": [
    "cond_azdias[\"PRAEGENDE_JUGENDJAHRE_GEN\"] = cond_azdias[\"PRAEGENDE_JUGENDJAHRE\"].map(praegende_jugendjahre_gen, na_action = \"ignore\")\n",
    "cond_azdias[\"PRAEGENDE_JUGENDJAHRE_MOVE\"] = cond_azdias[\"PRAEGENDE_JUGENDJAHRE\"].map(praegende_jugendjahre_move, na_action = \"ignore\")\n",
    "\n",
    "print(cond_azdias.shape)"
   ]
  },
  {
   "cell_type": "code",
   "execution_count": 36,
   "metadata": {},
   "outputs": [],
   "source": [
    "unique_cameo = [value for value in cond_azdias[\"CAMEO_INTL_2015\"].unique() if str(value) != \"nan\"]"
   ]
  },
  {
   "cell_type": "code",
   "execution_count": 37,
   "metadata": {},
   "outputs": [],
   "source": [
    "# Investigate \"CAMEO_INTL_2015\" and engineer two new variables.\n",
    "poss_aff_values = np.append(unique_cameo, \"11\")\n",
    "def find_numpos_label(tag, ones):\n",
    "    if ones:\n",
    "        label = tag[-1]\n",
    "        return int(label)\n",
    "    else:\n",
    "        \n",
    "        label = tag[0]\n",
    "        return int(label)\n",
    "\n",
    "def find_cameo_label(x):\n",
    "    cameo_intl_2015_affluence = dict()\n",
    "    cameo_intl_2015_family_struct = dict()\n",
    "    \n",
    "    for tag in x:\n",
    "        \n",
    "        cameo_intl_2015_affluence[tag] = find_numpos_label(tag, ones = False)\n",
    "        cameo_intl_2015_family_struct[tag] = find_numpos_label(tag, ones = True)\n",
    "        \n",
    "    return cameo_intl_2015_affluence, cameo_intl_2015_family_struct \n",
    "\n",
    "cameo_intl_2015_affluence, cameo_intl_2015_family_struct = find_cameo_label(poss_aff_values)"
   ]
  },
  {
   "cell_type": "code",
   "execution_count": 38,
   "metadata": {},
   "outputs": [
    {
     "name": "stdout",
     "output_type": "stream",
     "text": [
      "{'51': 5, '24': 2, '12': 1, '43': 4, '54': 5, '22': 2, '14': 1, '13': 1, '15': 1, '33': 3, '41': 4, '34': 3, '55': 5, '25': 2, '23': 2, '31': 3, '52': 5, '35': 3, '45': 4, '44': 4, '32': 3, '11': 1}\n",
      "\n",
      "\n",
      "{'51': 1, '24': 4, '12': 2, '43': 3, '54': 4, '22': 2, '14': 4, '13': 3, '15': 5, '33': 3, '41': 1, '34': 4, '55': 5, '25': 5, '23': 3, '31': 1, '52': 2, '35': 5, '45': 5, '44': 4, '32': 2, '11': 1}\n"
     ]
    }
   ],
   "source": [
    "print(cameo_intl_2015_affluence)\n",
    "print(\"\\n\")\n",
    "print(cameo_intl_2015_family_struct)"
   ]
  },
  {
   "cell_type": "code",
   "execution_count": 39,
   "metadata": {},
   "outputs": [
    {
     "name": "stdout",
     "output_type": "stream",
     "text": [
      "(780153, 70)\n"
     ]
    }
   ],
   "source": [
    "cond_azdias[\"CAMEO_INTL_2015_AFF\"] = cond_azdias[\"CAMEO_INTL_2015\"].map(cameo_intl_2015_affluence, na_action = \"ignore\")\n",
    "cond_azdias[\"CAMEO_INTL_2015_FAM_STRUCT\"] = cond_azdias[\"CAMEO_INTL_2015\"].map(cameo_intl_2015_family_struct, na_action = \"ignore\")\n",
    "\n",
    "print(cond_azdias.shape)"
   ]
  },
  {
   "cell_type": "code",
   "execution_count": 40,
   "metadata": {},
   "outputs": [
    {
     "name": "stdout",
     "output_type": "stream",
     "text": [
      "['LP_LEBENSPHASE_FEIN', 'LP_LEBENSPHASE_GROB', 'PRAEGENDE_JUGENDJAHRE', 'WOHNLAGE', 'CAMEO_INTL_2015', 'PLZ8_BAUMAX']\n"
     ]
    }
   ],
   "source": [
    "feat_info[feat_info[\"type\"] == \"mixed\"]\n",
    "list_of_mixed_categ = feat_info[feat_info[\"type\"] == \"mixed\"].attribute\n",
    "list_of_mixed_categ = list(list_of_mixed_categ)\n",
    "list_of_mixed_categ.remove(\"KBA05_BAUMAX\")\n",
    "print(list_of_mixed_categ)"
   ]
  },
  {
   "cell_type": "code",
   "execution_count": 41,
   "metadata": {},
   "outputs": [
    {
     "name": "stdout",
     "output_type": "stream",
     "text": [
      "(780153, 70)\n",
      "(780153, 64)\n"
     ]
    }
   ],
   "source": [
    "#Lets drop the other mixed features\n",
    "print(cond_azdias.shape)\n",
    "cond_azdias = cond_azdias.drop(list_of_mixed_categ, axis = 1)\n",
    "print(cond_azdias.shape)"
   ]
  },
  {
   "cell_type": "code",
   "execution_count": 42,
   "metadata": {},
   "outputs": [],
   "source": [
    "cond_azdias_columns = cond_azdias.columns"
   ]
  },
  {
   "cell_type": "markdown",
   "metadata": {},
   "source": [
    "#### Discussion 1.2.2: Engineer Mixed-Type Features\n",
    "\n",
    "I decided to seperate the two mixed variables mentioned in the notebook. The rest of the mixed variables I dropped. For PRAEGENDE_JUGENDJAHRE, I seperated the variables into generation and movement and with CAMEO_INTL_2015 I seperated the data into affluence and family_struct\n",
    "\n"
   ]
  },
  {
   "cell_type": "markdown",
   "metadata": {},
   "source": [
    "#### Step 1.2.3: Complete Feature Selection\n",
    "\n",
    "In order to finish this step up, you need to make sure that your data frame now only has the columns that you want to keep. To summarize, the dataframe should consist of the following:\n",
    "- All numeric, interval, and ordinal type columns from the original dataset.\n",
    "- Binary categorical features (all numerically-encoded).\n",
    "- Engineered features from other multi-level categorical features and mixed features.\n",
    "\n",
    "Make sure that for any new columns that you have engineered, that you've excluded the original columns from the final dataset. Otherwise, their values will interfere with the analysis later on the project. For example, you should not keep \"PRAEGENDE_JUGENDJAHRE\", since its values won't be useful for the algorithm: only the values derived from it in the engineered features you created should be retained. As a reminder, your data should only be from **the subset with few or no missing values**."
   ]
  },
  {
   "cell_type": "markdown",
   "metadata": {},
   "source": [
    "### Step 1.3: Create a Cleaning Function\n",
    "\n",
    "Even though you've finished cleaning up the general population demographics data, it's important to look ahead to the future and realize that you'll need to perform the same cleaning steps on the customer demographics data. In this substep, complete the function below to execute the main feature selection, encoding, and re-engineering steps you performed above. Then, when it comes to looking at the customer data in Step 3, you can just run this function on that DataFrame to get the trimmed dataset in a single step."
   ]
  },
  {
   "cell_type": "code",
   "execution_count": 43,
   "metadata": {},
   "outputs": [],
   "source": [
    "def clean_data(df):\n",
    "    \"\"\"\n",
    "    Perform feature trimming, re-encoding, and engineering for demographics\n",
    "    data\n",
    "    \n",
    "    INPUT: Demographics DataFrame\n",
    "    OUTPUT: Trimmed and cleaned demographics DataFrame\n",
    "    \"\"\"\n",
    "    \n",
    "    # Put in code here to execute all main cleaning steps:\n",
    "    # convert missing value codes into NaNs, ...\n",
    "    \n",
    "    attr_info = feat_info.set_index('attribute')\n",
    "    na_df = df.copy()\n",
    "    \n",
    "    for column in na_df.columns:\n",
    "        na_df[column].replace(attr_info.loc[column].loc['Na_list'],np.NaN,inplace=True)\n",
    "    \n",
    "    # remove selected columns and rows, ...\n",
    "    \n",
    "    #remove high nans columns\n",
    "    num_name_of_na_per_col = dict()\n",
    "    column_thresh = 200000\n",
    "    \n",
    "    for column in na_df:\n",
    "        sum_per_col = na_azdias[column].isna().sum()\n",
    "        if sum_per_col > column_thresh:\n",
    "            num_name_of_na_per_col[column] = sum_per_col\n",
    "    \n",
    "    outliers = num_name_of_na_per_col.keys()\n",
    "    na_df = na_df.drop(outliers, axis = 1)\n",
    "    \n",
    "    #remove high nan rows\n",
    "    row_thresh = 10\n",
    "    azdias_many_values = na_df[na_df.isnull().sum(axis = 1) <= 10]\n",
    "    \n",
    "    # select, re-encode, and engineer column values.\n",
    "    \n",
    "    #Reincode binary data that is not numerical\n",
    "    azdias_many_values[\"OST_WEST_KZ\"] = pd.get_dummies(azdias_many_values[\"OST_WEST_KZ\"])\n",
    "    #Drop remaining multi-categ features\n",
    "    multi_var_categ = ['CJT_GESAMTTYP',\n",
    "     'FINANZTYP',\n",
    "     'GFK_URLAUBERTYP',\n",
    "     'LP_FAMILIE_FEIN',\n",
    "     'LP_FAMILIE_GROB',\n",
    "     'LP_STATUS_FEIN',\n",
    "     'LP_STATUS_GROB',\n",
    "     'NATIONALITAET_KZ',\n",
    "     'SHOPPER_TYP',\n",
    "     'ZABEOTYP',\n",
    "     'GEBAEUDETYP',\n",
    "     'CAMEO_DEUG_2015',\n",
    "     'CAMEO_DEU_2015']\n",
    "    \n",
    "    cond_azdias = azdias_many_values.drop(list(multi_var_categ), axis = 1)\n",
    "    #Engineer mixed values\n",
    "    \n",
    "    praegende_jugendjahre_gen = {1.: 40, 2.: 40, 3.: 50, 4.: 50, 5.: 60, 6.: 60, 7.: 60, 8.: 70, 9.:70, 10.:80, 11.:80, 12.: 80, 13.:80, 14.:90, 15.:90}\n",
    "    praegende_jugendjahre_move = {1.:0, 2.:1, 3.:0, 4.:1, 5.:0, 6.:1, 7.:1 ,8.:0 ,9.:1, 10.:0, 11.:1, 12.:0 ,13.:1 ,14.:0, 15.:1}\n",
    "    \n",
    "    cond_azdias[\"PRAEGENDE_JUGENDJAHRE_GEN\"] = cond_azdias[\"PRAEGENDE_JUGENDJAHRE\"].map(praegende_jugendjahre_gen, na_action = \"ignore\")\n",
    "    cond_azdias[\"PRAEGENDE_JUGENDJAHRE_MOVE\"] = cond_azdias[\"PRAEGENDE_JUGENDJAHRE\"].map(praegende_jugendjahre_move, na_action = \"ignore\")\n",
    "    \n",
    "    cameo_intl_2015_affluence = {'51': 5, '24': 2, '12': 1, '43': 4, '54': 5, '22': 2, '14': 1, '13': 1, '15': 1, '33': 3, '41': 4, '34': 3, '55': 5, '25': 2, '23': 2, '31': 3, '52': 5, '35': 3, '45': 4, '44': 4, '32': 3, '11': 1}\n",
    "    cameo_intl_2015_family_struct = {'51': 1, '24': 4, '12': 2, '43': 3, '54': 4, '22': 2, '14': 4, '13': 3, '15': 5, '33': 3, '41': 1, '34': 4, '55': 5, '25': 5, '23': 3, '31': 1, '52': 2, '35': 5, '45': 5, '44': 4, '32': 2, '11': 1}\n",
    "    \n",
    "    cond_azdias[\"CAMEO_INTL_2015_AFF\"] = cond_azdias[\"CAMEO_INTL_2015\"].map(cameo_intl_2015_affluence, na_action = \"ignore\")\n",
    "    cond_azdias[\"CAMEO_INTL_2015_FAM_STRUCT\"] = cond_azdias[\"CAMEO_INTL_2015\"].map(cameo_intl_2015_family_struct, na_action = \"ignore\")\n",
    "    \n",
    "    #Drop the remaining mixed variables\n",
    "    list_of_mixed_categ = ['LP_LEBENSPHASE_FEIN', 'LP_LEBENSPHASE_GROB', 'PRAEGENDE_JUGENDJAHRE', 'WOHNLAGE', 'CAMEO_INTL_2015', 'PLZ8_BAUMAX']\n",
    "    cond_azdias = cond_azdias.drop(list_of_mixed_categ, axis = 1)\n",
    "    \n",
    "    # Return the cleaned dataframe.\n",
    "    print(\"DataFrame shape: {}\".format(cond_azdias.shape))\n",
    "    return cond_azdias\n",
    "    \n",
    "    "
   ]
  },
  {
   "cell_type": "markdown",
   "metadata": {},
   "source": [
    "## Step 2: Feature Transformation\n",
    "\n",
    "### Step 2.1: Apply Feature Scaling\n",
    "\n",
    "Before we apply dimensionality reduction techniques to the data, we need to perform feature scaling so that the principal component vectors are not influenced by the natural differences in scale for features. Starting from this part of the project, you'll want to keep an eye on the [API reference page for sklearn](http://scikit-learn.org/stable/modules/classes.html) to help you navigate to all of the classes and functions that you'll need. In this substep, you'll need to check the following:\n",
    "\n",
    "- sklearn requires that data not have missing values in order for its estimators to work properly. So, before applying the scaler to your data, make sure that you've cleaned the DataFrame of the remaining missing values. This can be as simple as just removing all data points with missing data, or applying an [Imputer](http://scikit-learn.org/stable/modules/generated/sklearn.preprocessing.Imputer.html) to replace all missing values. You might also try a more complicated procedure where you temporarily remove missing values in order to compute the scaling parameters before re-introducing those missing values and applying imputation. Think about how much missing data you have and what possible effects each approach might have on your analysis, and justify your decision in the discussion section below.\n",
    "- For the actual scaling function, a [StandardScaler](http://scikit-learn.org/stable/modules/generated/sklearn.preprocessing.StandardScaler.html) instance is suggested, scaling each feature to mean 0 and standard deviation 1.\n",
    "- For these classes, you can make use of the `.fit_transform()` method to both fit a procedure to the data as well as apply the transformation to the data at the same time. Don't forget to keep the fit sklearn objects handy, since you'll be applying them to the customer demographics data towards the end of the project."
   ]
  },
  {
   "cell_type": "code",
   "execution_count": 44,
   "metadata": {},
   "outputs": [
    {
     "name": "stdout",
     "output_type": "stream",
     "text": [
      "49929792 values\n",
      "529094 nan values\n"
     ]
    }
   ],
   "source": [
    "# If you've not yet cleaned the dataset of all NaN values, then investigate and\n",
    "# do that now.\n",
    "print(cond_azdias.shape[0] * cond_azdias.shape[1], \"values\")\n",
    "print(cond_azdias.isnull().sum().sum(), \"nan values\")"
   ]
  },
  {
   "cell_type": "code",
   "execution_count": 45,
   "metadata": {},
   "outputs": [],
   "source": [
    "imputer = Imputer()\n",
    "cleaned_azdias = cond_azdias.copy()\n",
    "cleaned_azdias = imputer.fit_transform(cleaned_azdias)"
   ]
  },
  {
   "cell_type": "code",
   "execution_count": 46,
   "metadata": {},
   "outputs": [],
   "source": [
    "# Apply feature scaling to the general population demographics data.\n",
    "scaler = StandardScaler()\n",
    "cleaned_azdias = scaler.fit_transform(cleaned_azdias)"
   ]
  },
  {
   "cell_type": "markdown",
   "metadata": {},
   "source": [
    "### Discussion 2.1: Apply Feature Scaling\n",
    "\n",
    "For feature scaling, I used an imputer that replaced all the np.nan values per data point with the mean of the dataset across columns or axis = 0 and strategy = \"mean\" which is default settings. I then fit transformed a standard scaler, so that one category of data is not weighted a lot more than the other due to arbritary range values.\n",
    "Research on Imputer: https://stackoverflow.com/questions/46691596/why-does-sklearn-imputer-need-to-fit"
   ]
  },
  {
   "cell_type": "markdown",
   "metadata": {},
   "source": [
    "### Step 2.2: Perform Dimensionality Reduction\n",
    "\n",
    "On your scaled data, you are now ready to apply dimensionality reduction techniques.\n",
    "\n",
    "- Use sklearn's [PCA](http://scikit-learn.org/stable/modules/generated/sklearn.decomposition.PCA.html) class to apply principal component analysis on the data, thus finding the vectors of maximal variance in the data. To start, you should not set any parameters (so all components are computed) or set a number of components that is at least half the number of features (so there's enough features to see the general trend in variability).\n",
    "- Check out the ratio of variance explained by each principal component as well as the cumulative variance explained. Try plotting the cumulative or sequential values using matplotlib's [`plot()`](https://matplotlib.org/api/_as_gen/matplotlib.pyplot.plot.html) function. Based on what you find, select a value for the number of transformed features you'll retain for the clustering part of the project.\n",
    "- Once you've made a choice for the number of components to keep, make sure you re-fit a PCA instance to perform the decided-on transformation."
   ]
  },
  {
   "cell_type": "code",
   "execution_count": 47,
   "metadata": {},
   "outputs": [
    {
     "data": {
      "text/plain": [
       "(780153, 64)"
      ]
     },
     "execution_count": 47,
     "metadata": {},
     "output_type": "execute_result"
    }
   ],
   "source": [
    "cleaned_azdias.shape "
   ]
  },
  {
   "cell_type": "code",
   "execution_count": 48,
   "metadata": {},
   "outputs": [
    {
     "name": "stdout",
     "output_type": "stream",
     "text": [
      "[0.16938550555358822, 0.63913703464870519, 0.79569019377440875, 0.88727373769214923, 0.94297484059407488, 0.97731851266045544, 0.99786428279390194]\n"
     ]
    }
   ],
   "source": [
    "# Apply PCA to the data.\n",
    "list_of_components = list(range(1, 70, 10))\n",
    "pca_objects = [PCA(n_components) for n_components in list_of_components]\n",
    "pca_explained_variance = list()\n",
    "for pca_object in pca_objects:\n",
    "    reduced_azdias = pca_object.fit_transform(cleaned_azdias)\n",
    "    explained_variance = np.sum(pca_object.explained_variance_ratio_)\n",
    "    pca_explained_variance.append(explained_variance)\n",
    "\n",
    "print(pca_explained_variance)"
   ]
  },
  {
   "cell_type": "code",
   "execution_count": 49,
   "metadata": {},
   "outputs": [
    {
     "data": {
      "image/png": "[encoded data removed]",
      "text/plain": [
       "<matplotlib.figure.Figure at 0x7f9fc8375ba8>"
      ]
     },
     "metadata": {
      "needs_background": "light"
     },
     "output_type": "display_data"
    }
   ],
   "source": [
    "# Investigate the variance accounted for by each principal component.\n",
    "fig, ax = plt.subplots(figsize=(10,10))\n",
    "plt.plot(list_of_components,pca_explained_variance)\n",
    "plt.title(\"PCA n_components curve\")\n",
    "plt.ylabel(\"explained_variance_ratio\")\n",
    "plt.xlabel(\"n_components\")\n",
    "plt.show()"
   ]
  },
  {
   "cell_type": "code",
   "execution_count": 50,
   "metadata": {},
   "outputs": [
    {
     "name": "stdout",
     "output_type": "stream",
     "text": [
      "The explained variance of new dataset: 91.28487052502486%\n",
      "The shape of data is (780153, 35)\n"
     ]
    }
   ],
   "source": [
    "# Re-apply PCA to the data while selecting for number of components to retain.\n",
    "new_pca = PCA(n_components = 35)\n",
    "reduced_azdias = new_pca.fit_transform(cleaned_azdias)\n",
    "print(\"The explained variance of new dataset: {}%\".format((np.sum(new_pca.explained_variance_ratio_) * 100)))\n",
    "print(\"The shape of data is {}\".format(reduced_azdias.shape))"
   ]
  },
  {
   "cell_type": "markdown",
   "metadata": {},
   "source": [
    "### Discussion 2.2: Perform Dimensionality Reduction\n",
    "\n",
    "For the pca step, I made a subplot of all the possible explained_varaince_ratio of objects with range(1, 70, 10) components. I plotted them all. I saw that pca curve started to decrease in rate of change in the interval 30 - 40 components so I reduced my model via PCA with n_components = 35 with a 91% explained variance ratio. "
   ]
  },
  {
   "cell_type": "markdown",
   "metadata": {},
   "source": [
    "### Step 2.3: Interpret Principal Components\n",
    "\n",
    "Now that we have our transformed principal components, it's a nice idea to check out the weight of each variable on the first few components to see if they can be interpreted in some fashion.\n",
    "\n",
    "As a reminder, each principal component is a unit vector that points in the direction of highest variance (after accounting for the variance captured by earlier principal components). The further a weight is from zero, the more the principal component is in the direction of the corresponding feature. If two features have large weights of the same sign (both positive or both negative), then increases in one tend expect to be associated with increases in the other. To contrast, features with different signs can be expected to show a negative correlation: increases in one variable should result in a decrease in the other.\n",
    "\n",
    "- To investigate the features, you should map each weight to their corresponding feature name, then sort the features according to weight. The most interesting features for each principal component, then, will be those at the beginning and end of the sorted list. Use the data dictionary document to help you understand these most prominent features, their relationships, and what a positive or negative value on the principal component might indicate.\n",
    "- You should investigate and interpret feature associations from the first three principal components in this substep. To help facilitate this, you should write a function that you can call at any time to print the sorted list of feature weights, for the *i*-th principal component. This might come in handy in the next step of the project, when you interpret the tendencies of the discovered clusters."
   ]
  },
  {
   "cell_type": "code",
   "execution_count": 51,
   "metadata": {},
   "outputs": [
    {
     "name": "stdout",
     "output_type": "stream",
     "text": [
      "['PLZ8_ANTG3', 'PLZ8_ANTG4', 'CAMEO_INTL_2015_AFF', 'HH_EINKOMMEN_SCORE', 'ORTSGR_KLS9', 'EWDICHTE', 'FINANZ_HAUSBAUER', 'PLZ8_ANTG2', 'KBA05_ANTG4', 'FINANZ_SPARER', 'ARBEIT', 'ANZ_HAUSHALTE_AKTIV', 'RELAT_AB', 'KBA05_ANTG3', 'SEMIO_PFLICHT', 'SEMIO_REL', 'PRAEGENDE_JUGENDJAHRE_GEN', 'SEMIO_RAT', 'SEMIO_TRADV', 'SEMIO_MAT', 'SEMIO_FAM', 'REGIOTYP', 'FINANZ_UNAUFFAELLIGER', 'SEMIO_KULT', 'FINANZ_ANLEGER', 'OST_WEST_KZ', 'KKK', 'SEMIO_SOZ', 'PLZ8_HHZ', 'SEMIO_KAEM', 'W_KEIT_KIND_HH', 'ANZ_HH_TITEL', 'HEALTH_TYP', 'VERS_TYP', 'SEMIO_DOM', 'KBA05_ANTG2', 'ANREDE_KZ', 'SEMIO_KRIT', 'SOHO_KZ', 'ANZ_TITEL', 'RETOURTYP_BK_S', 'SEMIO_VERT', 'ONLINE_AFFINITAET', 'MIN_GEBAEUDEJAHR', 'WOHNDAUER_2008', 'SEMIO_LUST', 'SEMIO_ERL', 'KBA13_ANZAHL_PKW', 'ANZ_PERSONEN', 'PRAEGENDE_JUGENDJAHRE_MOVE', 'GREEN_AVANTGARDE', 'FINANZ_VORSORGER', 'ALTERSKATEGORIE_GROB', 'GEBAEUDETYP_RASTER', 'CAMEO_INTL_2015_FAM_STRUCT', 'BALLRAUM', 'INNENSTADT', 'PLZ8_GBZ', 'KONSUMNAEHE', 'KBA05_GBZ', 'FINANZ_MINIMALIST', 'KBA05_ANTG1', 'PLZ8_ANTG1', 'MOBI_REGIO']\n"
     ]
    }
   ],
   "source": [
    "# Map weights for the first principal component to corresponding feature names\n",
    "# and then print the linked values, sorted by weight.\n",
    "# HINT: Try defining a function here or in a new cell that you can reuse in the\n",
    "# other cells.\n",
    "def mapping_sort_pc(index, pca, names = cond_azdias_columns):\n",
    "    \"\"\"Input: index of principal component list\"\"\"\n",
    "    pc_vector = pca.components_[index]   \n",
    "    mapping = {names[ii] : scalar for ii, scalar in enumerate(pc_vector)}\n",
    "    #Make positive go first in sort (personal preference)\n",
    "    sorted_map = sorted(mapping, key = mapping.get, reverse = True) \n",
    "    return sorted_map\n",
    "\n",
    "sorted_map_first_pca = mapping_sort_pc(0, new_pca)\n",
    "print(sorted_map_first_pca)"
   ]
  },
  {
   "cell_type": "code",
   "execution_count": 52,
   "metadata": {},
   "outputs": [
    {
     "name": "stdout",
     "output_type": "stream",
     "text": [
      "['ALTERSKATEGORIE_GROB', 'FINANZ_VORSORGER', 'SEMIO_ERL', 'SEMIO_LUST', 'RETOURTYP_BK_S', 'W_KEIT_KIND_HH', 'SEMIO_KRIT', 'FINANZ_HAUSBAUER', 'SEMIO_KAEM', 'PLZ8_ANTG3', 'ANREDE_KZ', 'EWDICHTE', 'ORTSGR_KLS9', 'PLZ8_ANTG4', 'CAMEO_INTL_2015_AFF', 'SEMIO_DOM', 'FINANZ_MINIMALIST', 'KBA05_ANTG4', 'ARBEIT', 'RELAT_AB', 'PLZ8_ANTG2', 'ANZ_HAUSHALTE_AKTIV', 'WOHNDAUER_2008', 'HH_EINKOMMEN_SCORE', 'KBA05_ANTG3', 'VERS_TYP', 'ANZ_HH_TITEL', 'OST_WEST_KZ', 'REGIOTYP', 'PLZ8_HHZ', 'ANZ_TITEL', 'KKK', 'CAMEO_INTL_2015_FAM_STRUCT', 'SOHO_KZ', 'KBA05_ANTG2', 'PRAEGENDE_JUGENDJAHRE_MOVE', 'GREEN_AVANTGARDE', 'KBA13_ANZAHL_PKW', 'GEBAEUDETYP_RASTER', 'MIN_GEBAEUDEJAHR', 'HEALTH_TYP', 'BALLRAUM', 'ANZ_PERSONEN', 'KONSUMNAEHE', 'SEMIO_VERT', 'PLZ8_GBZ', 'INNENSTADT', 'KBA05_ANTG1', 'KBA05_GBZ', 'MOBI_REGIO', 'PLZ8_ANTG1', 'SEMIO_SOZ', 'SEMIO_MAT', 'ONLINE_AFFINITAET', 'SEMIO_RAT', 'SEMIO_FAM', 'FINANZ_ANLEGER', 'SEMIO_KULT', 'FINANZ_UNAUFFAELLIGER', 'SEMIO_PFLICHT', 'SEMIO_TRADV', 'FINANZ_SPARER', 'PRAEGENDE_JUGENDJAHRE_GEN', 'SEMIO_REL']\n"
     ]
    }
   ],
   "source": [
    "# Map weights for the second principal component to corresponding feature names\n",
    "# and then print the linked values, sorted by weight.\n",
    "sorted_map_second_pca = mapping_sort_pc(1, new_pca)\n",
    "print(sorted_map_second_pca)"
   ]
  },
  {
   "cell_type": "code",
   "execution_count": 53,
   "metadata": {},
   "outputs": [
    {
     "name": "stdout",
     "output_type": "stream",
     "text": [
      "['SEMIO_VERT', 'SEMIO_SOZ', 'SEMIO_FAM', 'SEMIO_KULT', 'FINANZ_MINIMALIST', 'RETOURTYP_BK_S', 'FINANZ_VORSORGER', 'W_KEIT_KIND_HH', 'ALTERSKATEGORIE_GROB', 'SEMIO_REL', 'SEMIO_LUST', 'SEMIO_MAT', 'GREEN_AVANTGARDE', 'ORTSGR_KLS9', 'PRAEGENDE_JUGENDJAHRE_MOVE', 'EWDICHTE', 'PLZ8_ANTG4', 'PLZ8_ANTG3', 'ARBEIT', 'WOHNDAUER_2008', 'RELAT_AB', 'PLZ8_ANTG2', 'KBA05_ANTG4', 'CAMEO_INTL_2015_AFF', 'ANZ_HAUSHALTE_AKTIV', 'OST_WEST_KZ', 'VERS_TYP', 'ANZ_HH_TITEL', 'ANZ_TITEL', 'KBA05_ANTG3', 'PLZ8_HHZ', 'SOHO_KZ', 'REGIOTYP', 'ANZ_PERSONEN', 'CAMEO_INTL_2015_FAM_STRUCT', 'KBA05_ANTG2', 'KKK', 'MIN_GEBAEUDEJAHR', 'HH_EINKOMMEN_SCORE', 'HEALTH_TYP', 'KBA05_ANTG1', 'KBA13_ANZAHL_PKW', 'KBA05_GBZ', 'MOBI_REGIO', 'GEBAEUDETYP_RASTER', 'BALLRAUM', 'KONSUMNAEHE', 'PLZ8_GBZ', 'INNENSTADT', 'FINANZ_HAUSBAUER', 'PLZ8_ANTG1', 'ONLINE_AFFINITAET', 'SEMIO_TRADV', 'SEMIO_PFLICHT', 'FINANZ_UNAUFFAELLIGER', 'FINANZ_SPARER', 'PRAEGENDE_JUGENDJAHRE_GEN', 'SEMIO_ERL', 'FINANZ_ANLEGER', 'SEMIO_RAT', 'SEMIO_KRIT', 'SEMIO_DOM', 'SEMIO_KAEM', 'ANREDE_KZ']\n"
     ]
    }
   ],
   "source": [
    "# Map weights for the third principal component to corresponding feature names\n",
    "# and then print the linked values, sorted by weight.\n",
    "sorted_map_third_pca = mapping_sort_pc(2, new_pca)\n",
    "print(sorted_map_third_pca)"
   ]
  },
  {
   "cell_type": "markdown",
   "metadata": {},
   "source": [
    "### Discussion 2.3: Interpret Principal Components\n",
    "\n",
    "The new dataset instead of 64 has 35 features called principal components. Each principal component captures the most variance in the dataset. So here are my summaries:\n",
    "* First Principial Component: I see that the first component is positively correlated with the number of 6-10 and 10+ family houses in a certain region, size of community, and affluence and it is negatively correlated with 1-2 houses in a region along with low financial interests and movement patterns. Since the amount of houses in a region, affluence, size of community vary together and increase the pc variable while low regions, low financial interests, and high movement patterns vary together and decrease the pc variable, I assume that the first pc variable talks about the mobility or how \"long term\" residents tend to stay in a certain region. It increases when people stay longer time and commit more to the region and vice versa.   \n",
    "\n",
    "\n",
    "* Second Principal Component: I see that the given age, being borderline financially stable, being event oriented, being sensual oriented, and being a shopper vary similiarly and also are positively correlated with the second principal component. However, being relegious, being older, being a money-saver, traditional minded, and dutiful tend to be negative propoertional to the second pc. I assume that the second pc is a combination of variables that expresses the relative naïvnes and lack of maturity in a person. If the person is less mature than the pc increases, but if the person is more mature than the pc decreases.\n",
    "\n",
    "\n",
    "* Third Principal Componet: Being dreamful, socially minded, family minded, low financial interests, cultural minded all positively correlate to the third pc; however, being rational, critical minded, dominative minded, investor, combative, and being a certain gender are negatively proportional to the third pc. I assume that the third pc is a combination of feaures that expresses how much a person is a family or social relationship oriented person. If a person values relationships the most the the third pc increases; however, if a person values money and work the most then the third pc decreases.  \n"
   ]
  },
  {
   "cell_type": "markdown",
   "metadata": {},
   "source": [
    "## Step 3: Clustering\n",
    "\n",
    "### Step 3.1: Apply Clustering to General Population\n",
    "\n",
    "You've assessed and cleaned the demographics data, then scaled and transformed them. Now, it's time to see how the data clusters in the principal components space. In this substep, you will apply k-means clustering to the dataset and use the average within-cluster distances from each point to their assigned cluster's centroid to decide on a number of clusters to keep.\n",
    "\n",
    "- Use sklearn's [KMeans](http://scikit-learn.org/stable/modules/generated/sklearn.cluster.KMeans.html#sklearn.cluster.KMeans) class to perform k-means clustering on the PCA-transformed data.\n",
    "- Then, compute the average difference from each point to its assigned cluster's center. **Hint**: The KMeans object's `.score()` method might be useful here, but note that in sklearn, scores tend to be defined so that larger is better. Try applying it to a small, toy dataset, or use an internet search to help your understanding.\n",
    "- Perform the above two steps for a number of different cluster counts. You can then see how the average distance decreases with an increasing number of clusters. However, each additional cluster provides a smaller net benefit. Use this fact to select a final number of clusters in which to group the data. **Warning**: because of the large size of the dataset, it can take a long time for the algorithm to resolve. The more clusters to fit, the longer the algorithm will take. You should test for cluster counts through at least 10 clusters to get the full picture, but you shouldn't need to test for a number of clusters above about 30.\n",
    "- Once you've selected a final number of clusters to use, re-fit a KMeans instance to perform the clustering operation. Make sure that you also obtain the cluster assignments for the general demographics data, since you'll be using them in the final Step 3.3."
   ]
  },
  {
   "cell_type": "code",
   "execution_count": 81,
   "metadata": {},
   "outputs": [
    {
     "name": "stdout",
     "output_type": "stream",
     "text": [
      "[1, 2, 3, 4, 5, 6, 7, 8, 9]\n"
     ]
    }
   ],
   "source": [
    "# Over a number of different cluster counts...\n",
    "n_of_clusters = list(range(1, 10))\n",
    "k_means_objects = [KMeans(n_clusters = cluster_amount) for cluster_amount in n_of_clusters]\n",
    "# run k-means clustering on the data and compute the average within-cluster distances.\n",
    "scores_for_kmeans = [np.abs(kmeans_object.fit(reduced_azdias).score(reduced_azdias)) for kmeans_object in k_means_objects]\n",
    "print(n_of_clusters)    "
   ]
  },
  {
   "cell_type": "code",
   "execution_count": 54,
   "metadata": {},
   "outputs": [
    {
     "name": "stdout",
     "output_type": "stream",
     "text": [
      "[ 45577393.83931326  39207197.71567682  35985096.66936149  33939636.823781\n",
      "  32511858.8385231   31270385.61133787  30171125.11193473\n",
      "  29325734.45054122  28569771.6138038 ]\n"
     ]
    }
   ],
   "source": [
    "#Save scores for future refrence and run this cell for loading\n",
    "# np.save(\"cluster_scores\", scores_for_kmeans)\n",
    "scores_for_kmeans = np.load(\"cluster_scores.npy\")\n",
    "print(scores_for_kmeans)"
   ]
  },
  {
   "cell_type": "code",
   "execution_count": 55,
   "metadata": {},
   "outputs": [
    {
     "data": {
      "image/png": "[encoded data removed]",
      "text/plain": [
       "<matplotlib.figure.Figure at 0x7f9fc7f78550>"
      ]
     },
     "metadata": {
      "needs_background": "light"
     },
     "output_type": "display_data"
    }
   ],
   "source": [
    "# Investigate the change in within-cluster distance across number of clusters.\n",
    "# HINT: Use matplotlib's plot function to visualize this relationship.\n",
    "n_of_clusters = list(range(1, 10))\n",
    "fig, ax = plt.subplots(figsize=(10,10))\n",
    "plt.plot(n_of_clusters,scores_for_kmeans)\n",
    "plt.title(\"Elbow Curve\")\n",
    "plt.ylabel(\"Scores\")\n",
    "plt.xlabel(\"Number of clusterings\")\n",
    "plt.show()\n"
   ]
  },
  {
   "cell_type": "code",
   "execution_count": 56,
   "metadata": {},
   "outputs": [],
   "source": [
    "# Re-fit the k-means model with the selected number of clusters and obtain\n",
    "# cluster predictions for the general population demographics data.\n",
    "best_k_means = KMeans(7)\n",
    "demographic_pred = best_k_means.fit_predict(reduced_azdias)"
   ]
  },
  {
   "cell_type": "markdown",
   "metadata": {},
   "source": [
    "### Discussion 3.1: Apply Clustering to General Population\n",
    "\n",
    "I decided to apply seven clusters, because that was where the elbow of the curve seemed to be. The distance to the centroid was decreasing a lot from one point to another until the number 7 where it decreases slowly."
   ]
  },
  {
   "cell_type": "markdown",
   "metadata": {},
   "source": [
    "### Step 3.2: Apply All Steps to the Customer Data\n",
    "\n",
    "Now that you have clusters and cluster centers for the general population, it's time to see how the customer data maps on to those clusters. Take care to not confuse this for re-fitting all of the models to the customer data. Instead, you're going to use the fits from the general population to clean, transform, and cluster the customer data. In the last step of the project, you will interpret how the general population fits apply to the customer data.\n",
    "\n",
    "- Don't forget when loading in the customers data, that it is semicolon (`;`) delimited.\n",
    "- Apply the same feature wrangling, selection, and engineering steps to the customer demographics using the `clean_data()` function you created earlier. (You can assume that the customer demographics data has similar meaning behind missing data patterns as the general demographics data.)\n",
    "- Use the sklearn objects from the general demographics data, and apply their transformations to the customers data. That is, you should not be using a `.fit()` or `.fit_transform()` method to re-fit the old objects, nor should you be creating new sklearn objects! Carry the data through the feature scaling, PCA, and clustering steps, obtaining cluster assignments for all of the data in the customer demographics data."
   ]
  },
  {
   "cell_type": "code",
   "execution_count": 57,
   "metadata": {},
   "outputs": [
    {
     "name": "stdout",
     "output_type": "stream",
     "text": [
      "(191652, 85)\n"
     ]
    },
    {
     "data": {
      "text/html": [
       "<div>\n",
       "<style scoped>\n",
       "    .dataframe tbody tr th:only-of-type {\n",
       "        vertical-align: middle;\n",
       "    }\n",
       "\n",
       "    .dataframe tbody tr th {\n",
       "        vertical-align: top;\n",
       "    }\n",
       "\n",
       "    .dataframe thead th {\n",
       "        text-align: right;\n",
       "    }\n",
       "</style>\n",
       "<table border=\"1\" class=\"dataframe\">\n",
       "  <thead>\n",
       "    <tr style=\"text-align: right;\">\n",
       "      <th></th>\n",
       "      <th>AGER_TYP</th>\n",
       "      <th>ALTERSKATEGORIE_GROB</th>\n",
       "      <th>ANREDE_KZ</th>\n",
       "      <th>CJT_GESAMTTYP</th>\n",
       "      <th>FINANZ_MINIMALIST</th>\n",
       "      <th>FINANZ_SPARER</th>\n",
       "      <th>FINANZ_VORSORGER</th>\n",
       "      <th>FINANZ_ANLEGER</th>\n",
       "      <th>FINANZ_UNAUFFAELLIGER</th>\n",
       "      <th>FINANZ_HAUSBAUER</th>\n",
       "      <th>...</th>\n",
       "      <th>PLZ8_ANTG1</th>\n",
       "      <th>PLZ8_ANTG2</th>\n",
       "      <th>PLZ8_ANTG3</th>\n",
       "      <th>PLZ8_ANTG4</th>\n",
       "      <th>PLZ8_BAUMAX</th>\n",
       "      <th>PLZ8_HHZ</th>\n",
       "      <th>PLZ8_GBZ</th>\n",
       "      <th>ARBEIT</th>\n",
       "      <th>ORTSGR_KLS9</th>\n",
       "      <th>RELAT_AB</th>\n",
       "    </tr>\n",
       "  </thead>\n",
       "  <tbody>\n",
       "    <tr>\n",
       "      <th>0</th>\n",
       "      <td>2</td>\n",
       "      <td>4</td>\n",
       "      <td>1</td>\n",
       "      <td>5.0</td>\n",
       "      <td>5</td>\n",
       "      <td>1</td>\n",
       "      <td>5</td>\n",
       "      <td>1</td>\n",
       "      <td>2</td>\n",
       "      <td>2</td>\n",
       "      <td>...</td>\n",
       "      <td>3.0</td>\n",
       "      <td>3.0</td>\n",
       "      <td>1.0</td>\n",
       "      <td>0.0</td>\n",
       "      <td>1.0</td>\n",
       "      <td>5.0</td>\n",
       "      <td>5.0</td>\n",
       "      <td>1.0</td>\n",
       "      <td>2.0</td>\n",
       "      <td>1.0</td>\n",
       "    </tr>\n",
       "    <tr>\n",
       "      <th>1</th>\n",
       "      <td>-1</td>\n",
       "      <td>4</td>\n",
       "      <td>1</td>\n",
       "      <td>NaN</td>\n",
       "      <td>5</td>\n",
       "      <td>1</td>\n",
       "      <td>5</td>\n",
       "      <td>1</td>\n",
       "      <td>3</td>\n",
       "      <td>2</td>\n",
       "      <td>...</td>\n",
       "      <td>NaN</td>\n",
       "      <td>NaN</td>\n",
       "      <td>NaN</td>\n",
       "      <td>NaN</td>\n",
       "      <td>NaN</td>\n",
       "      <td>NaN</td>\n",
       "      <td>NaN</td>\n",
       "      <td>NaN</td>\n",
       "      <td>NaN</td>\n",
       "      <td>NaN</td>\n",
       "    </tr>\n",
       "    <tr>\n",
       "      <th>2</th>\n",
       "      <td>-1</td>\n",
       "      <td>4</td>\n",
       "      <td>2</td>\n",
       "      <td>2.0</td>\n",
       "      <td>5</td>\n",
       "      <td>1</td>\n",
       "      <td>5</td>\n",
       "      <td>1</td>\n",
       "      <td>4</td>\n",
       "      <td>4</td>\n",
       "      <td>...</td>\n",
       "      <td>2.0</td>\n",
       "      <td>3.0</td>\n",
       "      <td>3.0</td>\n",
       "      <td>1.0</td>\n",
       "      <td>3.0</td>\n",
       "      <td>3.0</td>\n",
       "      <td>2.0</td>\n",
       "      <td>3.0</td>\n",
       "      <td>5.0</td>\n",
       "      <td>3.0</td>\n",
       "    </tr>\n",
       "    <tr>\n",
       "      <th>3</th>\n",
       "      <td>1</td>\n",
       "      <td>4</td>\n",
       "      <td>1</td>\n",
       "      <td>2.0</td>\n",
       "      <td>5</td>\n",
       "      <td>1</td>\n",
       "      <td>5</td>\n",
       "      <td>2</td>\n",
       "      <td>1</td>\n",
       "      <td>2</td>\n",
       "      <td>...</td>\n",
       "      <td>3.0</td>\n",
       "      <td>2.0</td>\n",
       "      <td>1.0</td>\n",
       "      <td>0.0</td>\n",
       "      <td>1.0</td>\n",
       "      <td>3.0</td>\n",
       "      <td>4.0</td>\n",
       "      <td>1.0</td>\n",
       "      <td>3.0</td>\n",
       "      <td>1.0</td>\n",
       "    </tr>\n",
       "  </tbody>\n",
       "</table>\n",
       "<p>4 rows × 85 columns</p>\n",
       "</div>"
      ],
      "text/plain": [
       "   AGER_TYP  ALTERSKATEGORIE_GROB  ANREDE_KZ  CJT_GESAMTTYP  \\\n",
       "0         2                     4          1            5.0   \n",
       "1        -1                     4          1            NaN   \n",
       "2        -1                     4          2            2.0   \n",
       "3         1                     4          1            2.0   \n",
       "\n",
       "   FINANZ_MINIMALIST  FINANZ_SPARER  FINANZ_VORSORGER  FINANZ_ANLEGER  \\\n",
       "0                  5              1                 5               1   \n",
       "1                  5              1                 5               1   \n",
       "2                  5              1                 5               1   \n",
       "3                  5              1                 5               2   \n",
       "\n",
       "   FINANZ_UNAUFFAELLIGER  FINANZ_HAUSBAUER    ...     PLZ8_ANTG1  PLZ8_ANTG2  \\\n",
       "0                      2                 2    ...            3.0         3.0   \n",
       "1                      3                 2    ...            NaN         NaN   \n",
       "2                      4                 4    ...            2.0         3.0   \n",
       "3                      1                 2    ...            3.0         2.0   \n",
       "\n",
       "   PLZ8_ANTG3  PLZ8_ANTG4  PLZ8_BAUMAX  PLZ8_HHZ  PLZ8_GBZ  ARBEIT  \\\n",
       "0         1.0         0.0          1.0       5.0       5.0     1.0   \n",
       "1         NaN         NaN          NaN       NaN       NaN     NaN   \n",
       "2         3.0         1.0          3.0       3.0       2.0     3.0   \n",
       "3         1.0         0.0          1.0       3.0       4.0     1.0   \n",
       "\n",
       "   ORTSGR_KLS9  RELAT_AB  \n",
       "0          2.0       1.0  \n",
       "1          NaN       NaN  \n",
       "2          5.0       3.0  \n",
       "3          3.0       1.0  \n",
       "\n",
       "[4 rows x 85 columns]"
      ]
     },
     "execution_count": 57,
     "metadata": {},
     "output_type": "execute_result"
    }
   ],
   "source": [
    "# Load in the customer demographics data.\n",
    "customers = pd.read_csv(\"Udacity_CUSTOMERS_Subset.csv\", sep = \";\")\n",
    "print(customers.shape)\n",
    "customers.head(4)"
   ]
  },
  {
   "cell_type": "code",
   "execution_count": 58,
   "metadata": {},
   "outputs": [
    {
     "name": "stderr",
     "output_type": "stream",
     "text": [
      "/opt/conda/lib/python3.6/site-packages/ipykernel_launcher.py:40: SettingWithCopyWarning: \n",
      "A value is trying to be set on a copy of a slice from a DataFrame.\n",
      "Try using .loc[row_indexer,col_indexer] = value instead\n",
      "\n",
      "See the caveats in the documentation: http://pandas.pydata.org/pandas-docs/stable/indexing.html#indexing-view-versus-copy\n"
     ]
    },
    {
     "name": "stdout",
     "output_type": "stream",
     "text": [
      "DataFrame shape: (139068, 64)\n",
      "After Feature Scaling: (139068, 35)\n"
     ]
    }
   ],
   "source": [
    "# Apply preprocessing, feature transformation, and clustering from the general\n",
    "# demographics onto the customer data, obtaining cluster predictions for the\n",
    "# customer demographics data.\n",
    "cond_customer = clean_data(customers)\n",
    "customer_transformations = new_pca.fit_transform(scaler.transform(imputer.transform(cond_customer)))\n",
    "print(\"After Feature Scaling: {}\".format(customer_transformations.shape))"
   ]
  },
  {
   "cell_type": "code",
   "execution_count": 59,
   "metadata": {},
   "outputs": [
    {
     "name": "stdout",
     "output_type": "stream",
     "text": [
      "(139068,)\n"
     ]
    }
   ],
   "source": [
    "#Lets get the predictions for the customers using the kmeans model trained on demographics to see what \n",
    "#portion of demographics is most similiar to the clusters of customers.\n",
    "customer_pred = best_k_means.predict(customer_transformations)\n",
    "print(customer_pred.shape)"
   ]
  },
  {
   "cell_type": "markdown",
   "metadata": {},
   "source": [
    "### Step 3.3: Compare Customer Data to Demographics Data\n",
    "\n",
    "At this point, you have clustered data based on demographics of the general population of Germany, and seen how the customer data for a mail-order sales company maps onto those demographic clusters. In this final substep, you will compare the two cluster distributions to see where the strongest customer base for the company is.\n",
    "\n",
    "Consider the proportion of persons in each cluster for the general population, and the proportions for the customers. If we think the company's customer base to be universal, then the cluster assignment proportions should be fairly similar between the two. If there are only particular segments of the population that are interested in the company's products, then we should see a mismatch from one to the other. If there is a higher proportion of persons in a cluster for the customer data compared to the general population (e.g. 5% of persons are assigned to a cluster for the general population, but 15% of the customer data is closest to that cluster's centroid) then that suggests the people in that cluster to be a target audience for the company. On the other hand, the proportion of the data in a cluster being larger in the general population than the customer data (e.g. only 2% of customers closest to a population centroid that captures 6% of the data) suggests that group of persons to be outside of the target demographics.\n",
    "\n",
    "Take a look at the following points in this step:\n",
    "\n",
    "- Compute the proportion of data points in each cluster for the general population and the customer data. Visualizations will be useful here: both for the individual dataset proportions, but also to visualize the ratios in cluster representation between groups. Seaborn's [`countplot()`](https://seaborn.pydata.org/generated/seaborn.countplot.html) or [`barplot()`](https://seaborn.pydata.org/generated/seaborn.barplot.html) function could be handy.\n",
    "  - Recall the analysis you performed in step 1.1.3 of the project, where you separated out certain data points from the dataset if they had more than a specified threshold of missing values. If you found that this group was qualitatively different from the main bulk of the data, you should treat this as an additional data cluster in this analysis. Make sure that you account for the number of data points in this subset, for both the general population and customer datasets, when making your computations!\n",
    "- Which cluster or clusters are overrepresented in the customer dataset compared to the general population? Select at least one such cluster and infer what kind of people might be represented by that cluster. Use the principal component interpretations from step 2.3 or look at additional components to help you make this inference. Alternatively, you can use the `.inverse_transform()` method of the PCA and StandardScaler objects to transform centroids back to the original data space and interpret the retrieved values directly.\n",
    "- Perform a similar investigation for the underrepresented clusters. Which cluster or clusters are underrepresented in the customer dataset compared to the general population, and what kinds of people are typified by these clusters?"
   ]
  },
  {
   "cell_type": "code",
   "execution_count": 60,
   "metadata": {},
   "outputs": [
    {
     "data": {
      "text/plain": [
       "Text(0.5,1,'Amount of Demographic values KMeans put in each cluster')"
      ]
     },
     "execution_count": 60,
     "metadata": {},
     "output_type": "execute_result"
    },
    {
     "data": {
      "image/png": "[encoded data removed]",
      "text/plain": [
       "<matplotlib.figure.Figure at 0x7f9fc7f6e710>"
      ]
     },
     "metadata": {
      "needs_background": "light"
     },
     "output_type": "display_data"
    }
   ],
   "source": [
    "# Compare the proportion of data in each cluster for the customer data to the\n",
    "# proportion of data in each cluster for the general population.\n",
    "\n",
    "figure, axs = plt.subplots(nrows=2, ncols=1, figsize = (20,15))\n",
    "figure.subplots_adjust(hspace = 0.2, wspace=.3)\n",
    "sns.countplot(customer_pred, ax = axs[0])\n",
    "axs[0].set_title('Amount of Customer values KMeans put in each cluster')\n",
    "sns.countplot(demographic_pred, ax = axs[1])\n",
    "axs[1].set_title('Amount of Demographic values KMeans put in each cluster')\n",
    "    "
   ]
  },
  {
   "cell_type": "code",
   "execution_count": 120,
   "metadata": {},
   "outputs": [
    {
     "name": "stdout",
     "output_type": "stream",
     "text": [
      "Cluster 3\n",
      "Middle Values: [('SEMIO_VERT', 4.8147602635779156), ('W_KEIT_KIND_HH', 4.6766909637500431), ('REGIOTYP', 4.557294899918884), ('FINANZ_VORSORGER', 4.4776218114184969), ('SEMIO_SOZ', 4.3390460075070303), ('CAMEO_INTL_2015_AFF', 4.3312106816284928), ('SEMIO_KRIT', 4.2965536908461575), ('RETOURTYP_BK_S', 4.2168359160323368), ('FINANZ_HAUSBAUER', 4.1971592644565252), ('SEMIO_DOM', 4.1761421979439355), ('SEMIO_FAM', 3.9980278464484753), ('SEMIO_KAEM', 3.9754564436562534), ('RELAT_AB', 3.810643095703949), ('SEMIO_MAT', 3.7584740220972663), ('SEMIO_KULT', 3.6858862275061588), ('PLZ8_HHZ', 3.6765631595442283), ('INNENSTADT', 3.6656831794695224), ('PLZ8_ANTG2', 3.5082845470591546), ('ALTERSKATEGORIE_GROB', 3.422829930800289), ('ARBEIT', 3.4075514533242108), ('GEBAEUDETYP_RASTER', 3.2522968508883827), ('SEMIO_REL', 3.1695686010824016), ('BALLRAUM', 3.1563999657263917), ('SEMIO_PFLICHT', 3.1045883563099128), ('FINANZ_MINIMALIST', 3.0394024101988899), ('SEMIO_RAT', 2.9291527950746019), ('SEMIO_TRADV', 2.8987099470232294), ('PLZ8_GBZ', 2.7498889882814059), ('CAMEO_INTL_2015_FAM_STRUCT', 2.7111479197616353), ('KKK', 2.5706504395936522), ('ONLINE_AFFINITAET', 2.4430786424354856), ('PLZ8_ANTG3', 2.3569255021429685), ('KBA05_GBZ', 2.1613305580668314), ('KONSUMNAEHE', 1.9048395630496833), ('HEALTH_TYP', 1.8574841679687002), ('FINANZ_UNAUFFAELLIGER', 1.7941550315861725), ('MOBI_REGIO', 1.7866603780585177), ('ANZ_PERSONEN', 1.6510125165755913), ('FINANZ_SPARER', 1.6154968141570647), ('FINANZ_ANLEGER', 1.5753917508673205), ('KBA05_ANTG2', 1.5638032185743151), ('VERS_TYP', 1.5616085379856817), ('PLZ8_ANTG1', 1.4800583547124107), ('ANREDE_KZ', 1.4210664508700068)]\n",
      "\n",
      "\n",
      "Cluster 6\n",
      "Middle Values: [('INNENSTADT', 5.039126086192403), ('ORTSGR_KLS9', 4.6946849960807917), ('SEMIO_MAT', 4.6726851715952238), ('FINANZ_VORSORGER', 4.6340642455724392), ('BALLRAUM', 4.5907808782827111), ('MOBI_REGIO', 4.4072295741008034), ('SEMIO_REL', 4.3280638804662193), ('KBA05_GBZ', 4.2531865143131213), ('RETOURTYP_BK_S', 4.0817895214354598), ('PLZ8_GBZ', 4.0274180024865034), ('GEBAEUDETYP_RASTER', 3.9896981052885625), ('W_KEIT_KIND_HH', 3.8304073663154017), ('KONSUMNAEHE', 3.6997837969352956), ('PLZ8_HHZ', 3.6717588928613805), ('CAMEO_INTL_2015_FAM_STRUCT', 3.5865273048517423), ('EWDICHTE', 3.5709929809455252), ('ALTERSKATEGORIE_GROB', 3.5542589176971875), ('ONLINE_AFFINITAET', 3.5326321820626623), ('SEMIO_TRADV', 3.3295217343182375), ('REGIOTYP', 3.1938494468174534), ('SEMIO_ERL', 3.0902553926075043), ('PLZ8_ANTG1', 2.9965640457767946), ('KBA05_ANTG1', 2.9641016940432499), ('ANZ_PERSONEN', 2.9620660911261045), ('SEMIO_PFLICHT', 2.9613684010782184), ('RELAT_AB', 2.7596855916275556), ('ARBEIT', 2.7021175506589747), ('SEMIO_RAT', 2.4477644103407501), ('PLZ8_ANTG2', 2.4169965221439944), ('SEMIO_DOM', 2.3274365682266387), ('KKK', 2.0826415442039643), ('FINANZ_UNAUFFAELLIGER', 1.8969923551280141), ('HH_EINKOMMEN_SCORE', 1.8961124041231012), ('HEALTH_TYP', 1.8647060423224961), ('SEMIO_KRIT', 1.7152939702911647), ('FINANZ_HAUSBAUER', 1.689493414457987), ('CAMEO_INTL_2015_AFF', 1.677816153861019), ('FINANZ_SPARER', 1.3119114268022118), ('VERS_TYP', 1.2967812809460413), ('FINANZ_ANLEGER', 1.1979515119274493), ('KBA05_ANTG2', 1.1464949265698916), ('SEMIO_KAEM', 1.1423225233082559), ('PLZ8_ANTG3', 1.0037863195800494), ('GREEN_AVANTGARDE', 0.80098665239386269)]\n",
      "\n",
      "\n"
     ]
    }
   ],
   "source": [
    "# What kinds of people are part of a cluster that is overrepresented in the\n",
    "# customer data compared to the general population?\n",
    "over_rep_customer = [3, 6]\n",
    "# Get the center most values for all axises that make up a cluster\n",
    "# 35 features means 35 average values for features make up the average person in one cluster\n",
    "#Turn 35 complex reduced features to normal features by reversing pca and standard scalar\n",
    "for cluster_num in over_rep_customer:\n",
    "    expanded_feature_values = scaler.inverse_transform(new_pca.inverse_transform(best_k_means.cluster_centers_))\n",
    "    cluster_mapping = list(zip(cond_customer.columns, expanded_feature_values[cluster_num]))\n",
    "    sorted_cluster_mapping = sorted(cluster_mapping, key = lambda x: x[1], reverse = True)\n",
    "    print(\"Cluster {}\".format(cluster_num))\n",
    "    print(\"Middle Values: {}\".format(sorted_cluster_mapping[10:-10]))\n",
    "    print(\"\\n\")\n"
   ]
  },
  {
   "cell_type": "code",
   "execution_count": 121,
   "metadata": {},
   "outputs": [
    {
     "name": "stdout",
     "output_type": "stream",
     "text": [
      "Cluster 0\n",
      "Middle Values: [('SEMIO_SOZ', 4.5051693555958918), ('FINANZ_VORSORGER', 4.3865152348117382), ('FINANZ_MINIMALIST', 4.3830027792807957), ('ORTSGR_KLS9', 4.3565875237896599), ('SEMIO_ERL', 4.1120542572568297), ('GEBAEUDETYP_RASTER', 4.0737597782378918), ('REGIOTYP', 3.9242610148188048), ('SEMIO_MAT', 3.907409114717554), ('SEMIO_REL', 3.8119443599788707), ('W_KEIT_KIND_HH', 3.7851348441314139), ('RETOURTYP_BK_S', 3.7369459730614984), ('MOBI_REGIO', 3.7307407654635765), ('KBA05_GBZ', 3.7303432619925929), ('PLZ8_GBZ', 3.667963363756924), ('PLZ8_HHZ', 3.5534293333176645), ('HH_EINKOMMEN_SCORE', 3.5004972344307093), ('SEMIO_KRIT', 3.4812219456837425), ('SEMIO_DOM', 3.4707091805625003), ('CAMEO_INTL_2015_FAM_STRUCT', 3.386022801588465), ('ALTERSKATEGORIE_GROB', 3.3633484074626128), ('EWDICHTE', 3.3580376746057565), ('SEMIO_PFLICHT', 3.302368162058452), ('KONSUMNAEHE', 3.2452826422214169), ('SEMIO_TRADV', 3.2157961785276372), ('ONLINE_AFFINITAET', 3.0161434949967032), ('SEMIO_RAT', 2.8844418484795549), ('SEMIO_KAEM', 2.8677902747135562), ('CAMEO_INTL_2015_AFF', 2.7467260728609406), ('PLZ8_ANTG2', 2.7016645581494059), ('PLZ8_ANTG1', 2.5680277623550603), ('ARBEIT', 2.5533754909265736), ('RELAT_AB', 2.5122436517629536), ('KKK', 2.4911928753041641), ('FINANZ_HAUSBAUER', 2.4082795602332996), ('ANZ_PERSONEN', 2.3515159563954473), ('KBA05_ANTG1', 2.2666669821568508), ('FINANZ_UNAUFFAELLIGER', 1.9905096119749768), ('HEALTH_TYP', 1.9247278620073258), ('FINANZ_ANLEGER', 1.7776588011152028), ('FINANZ_SPARER', 1.6094394388446984), ('VERS_TYP', 1.4317932032659098), ('PLZ8_ANTG3', 1.3021152363910702), ('KBA05_ANTG2', 1.27852716718613), ('ANREDE_KZ', 1.1615116197154174)]\n",
      "\n",
      "\n",
      "Cluster 4\n",
      "Middle Values: [('SEMIO_SOZ', 5.0917015411514503), ('SEMIO_FAM', 5.0275163746687781), ('W_KEIT_KIND_HH', 4.9204824245374432), ('RETOURTYP_BK_S', 4.7602253847161249), ('FINANZ_VORSORGER', 4.6936967922815755), ('SEMIO_MAT', 4.6265085670876687), ('FINANZ_MINIMALIST', 4.0626174078666279), ('RELAT_AB', 3.9842492634536137), ('PLZ8_HHZ', 3.9648963093847045), ('SEMIO_REL', 3.7886690936289567), ('SEMIO_ERL', 3.6753692650723111), ('REGIOTYP', 3.5732887114342997), ('ARBEIT', 3.5670550485251633), ('ALTERSKATEGORIE_GROB', 3.5162475044045456), ('GEBAEUDETYP_RASTER', 3.430006342280298), ('PLZ8_ANTG2', 3.4269808664415975), ('HH_EINKOMMEN_SCORE', 3.2816407807705001), ('FINANZ_HAUSBAUER', 3.2420595816714464), ('SEMIO_DOM', 3.2284908141672242), ('CAMEO_INTL_2015_FAM_STRUCT', 3.1807691732124632), ('SEMIO_TRADV', 3.1136358867486202), ('PLZ8_GBZ', 3.0862090113324094), ('CAMEO_INTL_2015_AFF', 3.0049525310815062), ('SEMIO_PFLICHT', 2.8939971992375852), ('KBA05_GBZ', 2.8243543421115018), ('INNENSTADT', 2.7859690295605311), ('ONLINE_AFFINITAET', 2.7360319074456454), ('MOBI_REGIO', 2.6909767321371856), ('SEMIO_KRIT', 2.6157904654051665), ('SEMIO_RAT', 2.5156714643989986), ('BALLRAUM', 2.4876884846478897), ('PLZ8_ANTG3', 2.30107427724883), ('SEMIO_KAEM', 2.2819714384167793), ('ANZ_PERSONEN', 2.1417515120508939), ('KONSUMNAEHE', 2.0839350766395315), ('KKK', 1.9604850203352091), ('HEALTH_TYP', 1.8291575240953057), ('FINANZ_UNAUFFAELLIGER', 1.8003265179950501), ('PLZ8_ANTG1', 1.739689508572269), ('KBA05_ANTG2', 1.4654150657634692), ('VERS_TYP', 1.4380647767024324), ('KBA05_ANTG1', 1.4070431413089066), ('FINANZ_SPARER', 1.3277279418641967), ('PLZ8_ANTG4', 1.1365763662632642)]\n",
      "\n",
      "\n",
      "Cluster 5\n",
      "Middle Values: [('SEMIO_KAEM', 5.0308086398089218), ('W_KEIT_KIND_HH', 4.731665188812042), ('FINANZ_VORSORGER', 4.6769924481401857), ('EWDICHTE', 4.4407903629580883), ('INNENSTADT', 4.3349771332253288), ('REGIOTYP', 4.3031450295626303), ('BALLRAUM', 3.9814319341111157), ('SEMIO_VERT', 3.8527268061255597), ('FINANZ_MINIMALIST', 3.834876641046713), ('HH_EINKOMMEN_SCORE', 3.8034392536905388), ('GEBAEUDETYP_RASTER', 3.7197953378381166), ('SEMIO_SOZ', 3.6772539944717897), ('RETOURTYP_BK_S', 3.6699595987447289), ('PLZ8_HHZ', 3.6405715128771119), ('ALTERSKATEGORIE_GROB', 3.5149159318532055), ('CAMEO_INTL_2015_FAM_STRUCT', 3.4344545639118995), ('FINANZ_HAUSBAUER', 3.432569260823521), ('KBA05_GBZ', 3.3859437304241036), ('PLZ8_GBZ', 3.3009723994029745), ('CAMEO_INTL_2015_AFF', 3.2556641574611564), ('MOBI_REGIO', 3.2148929634673924), ('RELAT_AB', 3.21279188470294), ('ARBEIT', 3.1551359966263894), ('PLZ8_ANTG2', 3.0219497308737662), ('SEMIO_RAT', 2.9816185567210587), ('SEMIO_PFLICHT', 2.9288320014687494), ('SEMIO_FAM', 2.8694880304860026), ('SEMIO_MAT', 2.8512311757460993), ('SEMIO_KULT', 2.5996623193570856), ('KKK', 2.5126257311009668), ('ONLINE_AFFINITAET', 2.5117518607637765), ('KONSUMNAEHE', 2.4894472194634325), ('SEMIO_TRADV', 2.4732074838284097), ('SEMIO_REL', 2.3720967583638366), ('PLZ8_ANTG1', 2.1614315213612936), ('HEALTH_TYP', 2.0680115708164619), ('KBA05_ANTG1', 1.8317220252943791), ('PLZ8_ANTG3', 1.7555779665952527), ('ANZ_PERSONEN', 1.7431489850461213), ('ANREDE_KZ', 1.7242101246580779), ('FINANZ_UNAUFFAELLIGER', 1.6431272799748453), ('FINANZ_ANLEGER', 1.6015225237630939), ('VERS_TYP', 1.5913959074257147), ('FINANZ_SPARER', 1.3097203656944598)]\n",
      "\n",
      "\n"
     ]
    }
   ],
   "source": [
    "# What kinds of people are part of a cluster that is underrepresented in the\n",
    "# customer data compared to the general population?\n",
    "under_rep_customer = [0, 4, 5]\n",
    "for cluster_num in under_rep_customer:\n",
    "    expanded_feature_values = scaler.inverse_transform(new_pca.inverse_transform(best_k_means.cluster_centers_))\n",
    "    cluster_mapping = list(zip(cond_customer.columns, expanded_feature_values[cluster_num]))\n",
    "    sorted_cluster_mapping = sorted(cluster_mapping, key = lambda x: x[1], reverse = True)\n",
    "    print(\"Cluster {}\".format(cluster_num))\n",
    "    print(\"Middle Values: {}\".format(sorted_cluster_mapping[10:-10]))\n",
    "    print(\"\\n\")\n"
   ]
  },
  {
   "cell_type": "markdown",
   "metadata": {},
   "source": [
    "### Discussion 3.3: Compare Customer Data to Demographics Data\n",
    "\n",
    "\n",
    "Yes, I noticed some patterns that were pretty interesting. I saw that clusters where it was shown that mail orders were less popular with customers that were movers that liked to return.\n",
    "\n",
    "I also noticed that the mail order was popular with financial minimalists that had an online affinity.\n"
   ]
  },
  {
   "cell_type": "markdown",
   "metadata": {},
   "source": [
    "> Congratulations on making it this far in the project! Before you finish, make sure to check through the entire notebook from top to bottom to make sure that your analysis follows a logical flow and all of your findings are documented in **Discussion** cells. Once you've checked over all of your work, you should export the notebook as an HTML document to submit for evaluation. You can do this from the menu, navigating to **File -> Download as -> HTML (.html)**. You will submit both that document and this notebook for your project submission."
   ]
  },
  {
   "cell_type": "code",
   "execution_count": null,
   "metadata": {},
   "outputs": [],
   "source": []
  }
 ],
 "metadata": {
  "kernelspec": {
   "display_name": "Python 3",
   "language": "python",
   "name": "python3"
  },
  "language_info": {
   "codemirror_mode": {
    "name": "ipython",
    "version": 3
   },
   "file_extension": ".py",
   "mimetype": "text/x-python",
   "name": "python",
   "nbconvert_exporter": "python",
   "pygments_lexer": "ipython3",
   "version": "3.6.3"
  }
 },
 "nbformat": 4,
 "nbformat_minor": 2
}
